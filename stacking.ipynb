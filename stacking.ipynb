{
  "nbformat": 4,
  "nbformat_minor": 0,
  "metadata": {
    "colab": {
      "provenance": [],
      "collapsed_sections": [],
      "authorship_tag": "ABX9TyOMLExZ/ctn8HYW8bCZtk80",
      "include_colab_link": true
    },
    "kernelspec": {
      "name": "python3",
      "display_name": "Python 3"
    },
    "language_info": {
      "name": "python"
    }
  },
  "cells": [
    {
      "cell_type": "markdown",
      "metadata": {
        "id": "view-in-github",
        "colab_type": "text"
      },
      "source": [
        "<a href=\"https://colab.research.google.com/github/bhavanisanda/machine-learning/blob/main/stacking.ipynb\" target=\"_parent\"><img src=\"https://colab.research.google.com/assets/colab-badge.svg\" alt=\"Open In Colab\"/></a>"
      ]
    },
    {
      "cell_type": "code",
      "execution_count": null,
      "metadata": {
        "colab": {
          "base_uri": "https://localhost:8080/"
        },
        "id": "EwhZbmDi1p-1",
        "outputId": "c5ef02c5-3bbf-402b-addb-2ad95e45e9f2"
      },
      "outputs": [
        {
          "output_type": "stream",
          "name": "stdout",
          "text": [
            "Mounted at /content/gdrive\n"
          ]
        }
      ],
      "source": [
        "from google.colab import drive\n",
        "drive.mount('/content/gdrive')"
      ]
    },
    {
      "cell_type": "code",
      "source": [
        "import os\n",
        "path=('/content/gdrive/MyDrive')\n",
        "os.chdir(path)"
      ],
      "metadata": {
        "id": "Kqzu95Hs2CPq"
      },
      "execution_count": null,
      "outputs": []
    },
    {
      "cell_type": "code",
      "source": [
        "import pandas as pd\n",
        "import numpy as np\n",
        "from sklearn.impute import SimpleImputer\n",
        "from sklearn.preprocessing import StandardScaler,OneHotEncoder\n",
        "from sklearn.model_selection import train_test_split,GridSearchCV,RandomizedSearchCV\n",
        "from sklearn.metrics import classification_report,confusion_matrix\n",
        "from sklearn.svm import SVC,SVR\n",
        "from sklearn.ensemble import RandomForestClassifier,AdaBoostClassifier,GradientBoostingClassifier\n",
        "import pickle as pkl\n",
        "import matplotlib.pyplot as plt\n",
        "from sklearn.tree import DecisionTreeClassifier\n",
        "from sklearn.naive_bayes import GaussianNB\n",
        "from sklearn.linear_model import LogisticRegression\n",
        "from sklearn.neighbors import KNeighborsClassifier\n"
      ],
      "metadata": {
        "id": "Q73BwXSw2XYA"
      },
      "execution_count": null,
      "outputs": []
    },
    {
      "cell_type": "code",
      "source": [
        "data=pd.read_excel('HR Attrition.xlsx',na_values=['?','#'])"
      ],
      "metadata": {
        "id": "qZoLX9V44E2b"
      },
      "execution_count": null,
      "outputs": []
    },
    {
      "cell_type": "code",
      "source": [
        "data.head()"
      ],
      "metadata": {
        "colab": {
          "base_uri": "https://localhost:8080/",
          "height": 369
        },
        "id": "6QABWVFM4W4k",
        "outputId": "d171b962-cad9-4743-c39b-30b25b04f5ea"
      },
      "execution_count": null,
      "outputs": [
        {
          "output_type": "execute_result",
          "data": {
            "text/plain": [
              "   Age Attrition     BusinessTravel              Department  DistanceFromHome  \\\n",
              "0   41       Yes      Travel_Rarely                   Sales                 1   \n",
              "1   49        No  Travel_Frequently  Research & Development                 8   \n",
              "2   37       Yes      Travel_Rarely  Research & Development                 2   \n",
              "3   33        No  Travel_Frequently  Research & Development                 3   \n",
              "4   27        No      Travel_Rarely  Research & Development                 2   \n",
              "\n",
              "       Education EducationField  EmployeeNumber EnvironmentSatisfaction  \\\n",
              "0        College  Life Sciences               1                  Medium   \n",
              "1  Below_college  Life Sciences               2                    High   \n",
              "2        College          Other               4               Very high   \n",
              "3         Master  Life Sciences               5               Very high   \n",
              "4  Below_college        Medical               7                     Low   \n",
              "\n",
              "   Gender  ... RelationshipSatisfaction  StandardHours StockOptionLevel  \\\n",
              "0  Female  ...                      Low             80                0   \n",
              "1    Male  ...                Very High             80                1   \n",
              "2    Male  ...                   Medium             80                0   \n",
              "3  Female  ...                     High             80                0   \n",
              "4    Male  ...                Very High             80                1   \n",
              "\n",
              "  TotalWorkingYears TrainingTimesLastYear  WorkLifeBalance  YearsAtCompany  \\\n",
              "0                 8                     0              Bad               6   \n",
              "1                10                     3           Better              10   \n",
              "2                 7                     3           Better               0   \n",
              "3                 8                     3           Better               8   \n",
              "4                 6                     3           Better               2   \n",
              "\n",
              "  YearsInCurrentRole YearsSinceLastPromotion  YearsWithCurrManager  \n",
              "0                  4                       0                     5  \n",
              "1                  7                       1                     7  \n",
              "2                  0                       0                     0  \n",
              "3                  7                       3                     0  \n",
              "4                  2                       2                     2  \n",
              "\n",
              "[5 rows x 31 columns]"
            ],
            "text/html": [
              "\n",
              "  <div id=\"df-59ac394d-e734-498e-8cd2-2c1d15a547c5\">\n",
              "    <div class=\"colab-df-container\">\n",
              "      <div>\n",
              "<style scoped>\n",
              "    .dataframe tbody tr th:only-of-type {\n",
              "        vertical-align: middle;\n",
              "    }\n",
              "\n",
              "    .dataframe tbody tr th {\n",
              "        vertical-align: top;\n",
              "    }\n",
              "\n",
              "    .dataframe thead th {\n",
              "        text-align: right;\n",
              "    }\n",
              "</style>\n",
              "<table border=\"1\" class=\"dataframe\">\n",
              "  <thead>\n",
              "    <tr style=\"text-align: right;\">\n",
              "      <th></th>\n",
              "      <th>Age</th>\n",
              "      <th>Attrition</th>\n",
              "      <th>BusinessTravel</th>\n",
              "      <th>Department</th>\n",
              "      <th>DistanceFromHome</th>\n",
              "      <th>Education</th>\n",
              "      <th>EducationField</th>\n",
              "      <th>EmployeeNumber</th>\n",
              "      <th>EnvironmentSatisfaction</th>\n",
              "      <th>Gender</th>\n",
              "      <th>...</th>\n",
              "      <th>RelationshipSatisfaction</th>\n",
              "      <th>StandardHours</th>\n",
              "      <th>StockOptionLevel</th>\n",
              "      <th>TotalWorkingYears</th>\n",
              "      <th>TrainingTimesLastYear</th>\n",
              "      <th>WorkLifeBalance</th>\n",
              "      <th>YearsAtCompany</th>\n",
              "      <th>YearsInCurrentRole</th>\n",
              "      <th>YearsSinceLastPromotion</th>\n",
              "      <th>YearsWithCurrManager</th>\n",
              "    </tr>\n",
              "  </thead>\n",
              "  <tbody>\n",
              "    <tr>\n",
              "      <th>0</th>\n",
              "      <td>41</td>\n",
              "      <td>Yes</td>\n",
              "      <td>Travel_Rarely</td>\n",
              "      <td>Sales</td>\n",
              "      <td>1</td>\n",
              "      <td>College</td>\n",
              "      <td>Life Sciences</td>\n",
              "      <td>1</td>\n",
              "      <td>Medium</td>\n",
              "      <td>Female</td>\n",
              "      <td>...</td>\n",
              "      <td>Low</td>\n",
              "      <td>80</td>\n",
              "      <td>0</td>\n",
              "      <td>8</td>\n",
              "      <td>0</td>\n",
              "      <td>Bad</td>\n",
              "      <td>6</td>\n",
              "      <td>4</td>\n",
              "      <td>0</td>\n",
              "      <td>5</td>\n",
              "    </tr>\n",
              "    <tr>\n",
              "      <th>1</th>\n",
              "      <td>49</td>\n",
              "      <td>No</td>\n",
              "      <td>Travel_Frequently</td>\n",
              "      <td>Research &amp; Development</td>\n",
              "      <td>8</td>\n",
              "      <td>Below_college</td>\n",
              "      <td>Life Sciences</td>\n",
              "      <td>2</td>\n",
              "      <td>High</td>\n",
              "      <td>Male</td>\n",
              "      <td>...</td>\n",
              "      <td>Very High</td>\n",
              "      <td>80</td>\n",
              "      <td>1</td>\n",
              "      <td>10</td>\n",
              "      <td>3</td>\n",
              "      <td>Better</td>\n",
              "      <td>10</td>\n",
              "      <td>7</td>\n",
              "      <td>1</td>\n",
              "      <td>7</td>\n",
              "    </tr>\n",
              "    <tr>\n",
              "      <th>2</th>\n",
              "      <td>37</td>\n",
              "      <td>Yes</td>\n",
              "      <td>Travel_Rarely</td>\n",
              "      <td>Research &amp; Development</td>\n",
              "      <td>2</td>\n",
              "      <td>College</td>\n",
              "      <td>Other</td>\n",
              "      <td>4</td>\n",
              "      <td>Very high</td>\n",
              "      <td>Male</td>\n",
              "      <td>...</td>\n",
              "      <td>Medium</td>\n",
              "      <td>80</td>\n",
              "      <td>0</td>\n",
              "      <td>7</td>\n",
              "      <td>3</td>\n",
              "      <td>Better</td>\n",
              "      <td>0</td>\n",
              "      <td>0</td>\n",
              "      <td>0</td>\n",
              "      <td>0</td>\n",
              "    </tr>\n",
              "    <tr>\n",
              "      <th>3</th>\n",
              "      <td>33</td>\n",
              "      <td>No</td>\n",
              "      <td>Travel_Frequently</td>\n",
              "      <td>Research &amp; Development</td>\n",
              "      <td>3</td>\n",
              "      <td>Master</td>\n",
              "      <td>Life Sciences</td>\n",
              "      <td>5</td>\n",
              "      <td>Very high</td>\n",
              "      <td>Female</td>\n",
              "      <td>...</td>\n",
              "      <td>High</td>\n",
              "      <td>80</td>\n",
              "      <td>0</td>\n",
              "      <td>8</td>\n",
              "      <td>3</td>\n",
              "      <td>Better</td>\n",
              "      <td>8</td>\n",
              "      <td>7</td>\n",
              "      <td>3</td>\n",
              "      <td>0</td>\n",
              "    </tr>\n",
              "    <tr>\n",
              "      <th>4</th>\n",
              "      <td>27</td>\n",
              "      <td>No</td>\n",
              "      <td>Travel_Rarely</td>\n",
              "      <td>Research &amp; Development</td>\n",
              "      <td>2</td>\n",
              "      <td>Below_college</td>\n",
              "      <td>Medical</td>\n",
              "      <td>7</td>\n",
              "      <td>Low</td>\n",
              "      <td>Male</td>\n",
              "      <td>...</td>\n",
              "      <td>Very High</td>\n",
              "      <td>80</td>\n",
              "      <td>1</td>\n",
              "      <td>6</td>\n",
              "      <td>3</td>\n",
              "      <td>Better</td>\n",
              "      <td>2</td>\n",
              "      <td>2</td>\n",
              "      <td>2</td>\n",
              "      <td>2</td>\n",
              "    </tr>\n",
              "  </tbody>\n",
              "</table>\n",
              "<p>5 rows × 31 columns</p>\n",
              "</div>\n",
              "      <button class=\"colab-df-convert\" onclick=\"convertToInteractive('df-59ac394d-e734-498e-8cd2-2c1d15a547c5')\"\n",
              "              title=\"Convert this dataframe to an interactive table.\"\n",
              "              style=\"display:none;\">\n",
              "        \n",
              "  <svg xmlns=\"http://www.w3.org/2000/svg\" height=\"24px\"viewBox=\"0 0 24 24\"\n",
              "       width=\"24px\">\n",
              "    <path d=\"M0 0h24v24H0V0z\" fill=\"none\"/>\n",
              "    <path d=\"M18.56 5.44l.94 2.06.94-2.06 2.06-.94-2.06-.94-.94-2.06-.94 2.06-2.06.94zm-11 1L8.5 8.5l.94-2.06 2.06-.94-2.06-.94L8.5 2.5l-.94 2.06-2.06.94zm10 10l.94 2.06.94-2.06 2.06-.94-2.06-.94-.94-2.06-.94 2.06-2.06.94z\"/><path d=\"M17.41 7.96l-1.37-1.37c-.4-.4-.92-.59-1.43-.59-.52 0-1.04.2-1.43.59L10.3 9.45l-7.72 7.72c-.78.78-.78 2.05 0 2.83L4 21.41c.39.39.9.59 1.41.59.51 0 1.02-.2 1.41-.59l7.78-7.78 2.81-2.81c.8-.78.8-2.07 0-2.86zM5.41 20L4 18.59l7.72-7.72 1.47 1.35L5.41 20z\"/>\n",
              "  </svg>\n",
              "      </button>\n",
              "      \n",
              "  <style>\n",
              "    .colab-df-container {\n",
              "      display:flex;\n",
              "      flex-wrap:wrap;\n",
              "      gap: 12px;\n",
              "    }\n",
              "\n",
              "    .colab-df-convert {\n",
              "      background-color: #E8F0FE;\n",
              "      border: none;\n",
              "      border-radius: 50%;\n",
              "      cursor: pointer;\n",
              "      display: none;\n",
              "      fill: #1967D2;\n",
              "      height: 32px;\n",
              "      padding: 0 0 0 0;\n",
              "      width: 32px;\n",
              "    }\n",
              "\n",
              "    .colab-df-convert:hover {\n",
              "      background-color: #E2EBFA;\n",
              "      box-shadow: 0px 1px 2px rgba(60, 64, 67, 0.3), 0px 1px 3px 1px rgba(60, 64, 67, 0.15);\n",
              "      fill: #174EA6;\n",
              "    }\n",
              "\n",
              "    [theme=dark] .colab-df-convert {\n",
              "      background-color: #3B4455;\n",
              "      fill: #D2E3FC;\n",
              "    }\n",
              "\n",
              "    [theme=dark] .colab-df-convert:hover {\n",
              "      background-color: #434B5C;\n",
              "      box-shadow: 0px 1px 3px 1px rgba(0, 0, 0, 0.15);\n",
              "      filter: drop-shadow(0px 1px 2px rgba(0, 0, 0, 0.3));\n",
              "      fill: #FFFFFF;\n",
              "    }\n",
              "  </style>\n",
              "\n",
              "      <script>\n",
              "        const buttonEl =\n",
              "          document.querySelector('#df-59ac394d-e734-498e-8cd2-2c1d15a547c5 button.colab-df-convert');\n",
              "        buttonEl.style.display =\n",
              "          google.colab.kernel.accessAllowed ? 'block' : 'none';\n",
              "\n",
              "        async function convertToInteractive(key) {\n",
              "          const element = document.querySelector('#df-59ac394d-e734-498e-8cd2-2c1d15a547c5');\n",
              "          const dataTable =\n",
              "            await google.colab.kernel.invokeFunction('convertToInteractive',\n",
              "                                                     [key], {});\n",
              "          if (!dataTable) return;\n",
              "\n",
              "          const docLinkHtml = 'Like what you see? Visit the ' +\n",
              "            '<a target=\"_blank\" href=https://colab.research.google.com/notebooks/data_table.ipynb>data table notebook</a>'\n",
              "            + ' to learn more about interactive tables.';\n",
              "          element.innerHTML = '';\n",
              "          dataTable['output_type'] = 'display_data';\n",
              "          await google.colab.output.renderOutput(dataTable, element);\n",
              "          const docLink = document.createElement('div');\n",
              "          docLink.innerHTML = docLinkHtml;\n",
              "          element.appendChild(docLink);\n",
              "        }\n",
              "      </script>\n",
              "    </div>\n",
              "  </div>\n",
              "  "
            ]
          },
          "metadata": {},
          "execution_count": 5
        }
      ]
    },
    {
      "cell_type": "code",
      "source": [
        "data.tail()"
      ],
      "metadata": {
        "colab": {
          "base_uri": "https://localhost:8080/",
          "height": 369
        },
        "id": "SNZ_eSqV4auY",
        "outputId": "ecac030f-e1d2-4517-c44f-cc7759a7ef53"
      },
      "execution_count": null,
      "outputs": [
        {
          "output_type": "execute_result",
          "data": {
            "text/plain": [
              "      Age Attrition     BusinessTravel              Department  \\\n",
              "1465   36        No  Travel_Frequently  Research & Development   \n",
              "1466   39        No      Travel_Rarely  Research & Development   \n",
              "1467   27        No      Travel_Rarely  Research & Development   \n",
              "1468   49        No  Travel_Frequently                   Sales   \n",
              "1469   34        No      Travel_Rarely  Research & Development   \n",
              "\n",
              "      DistanceFromHome      Education EducationField  EmployeeNumber  \\\n",
              "1465                23        College        Medical            2061   \n",
              "1466                 6  Below_college        Medical            2062   \n",
              "1467                 4       Bachelor  Life Sciences            2064   \n",
              "1468                 2       Bachelor        Medical            2065   \n",
              "1469                 8       Bachelor        Medical            2068   \n",
              "\n",
              "     EnvironmentSatisfaction Gender  ... RelationshipSatisfaction  \\\n",
              "1465                    High   Male  ...                     High   \n",
              "1466               Very high   Male  ...                      Low   \n",
              "1467                  Medium   Male  ...                   Medium   \n",
              "1468               Very high   Male  ...                Very High   \n",
              "1469                  Medium   Male  ...                      Low   \n",
              "\n",
              "      StandardHours StockOptionLevel TotalWorkingYears TrainingTimesLastYear  \\\n",
              "1465             80                1                17                     3   \n",
              "1466             80                1                 9                     5   \n",
              "1467             80                1                 6                     0   \n",
              "1468             80                0                17                     3   \n",
              "1469             80                0                 6                     3   \n",
              "\n",
              "      WorkLifeBalance  YearsAtCompany YearsInCurrentRole  \\\n",
              "1465           Better               5                  2   \n",
              "1466           Better               7                  7   \n",
              "1467           Better               6                  2   \n",
              "1468             Good               9                  6   \n",
              "1469             Best               4                  3   \n",
              "\n",
              "     YearsSinceLastPromotion  YearsWithCurrManager  \n",
              "1465                       0                     3  \n",
              "1466                       1                     7  \n",
              "1467                       0                     3  \n",
              "1468                       0                     8  \n",
              "1469                       1                     2  \n",
              "\n",
              "[5 rows x 31 columns]"
            ],
            "text/html": [
              "\n",
              "  <div id=\"df-fb031977-56fb-4162-9f0f-b512b2562cb7\">\n",
              "    <div class=\"colab-df-container\">\n",
              "      <div>\n",
              "<style scoped>\n",
              "    .dataframe tbody tr th:only-of-type {\n",
              "        vertical-align: middle;\n",
              "    }\n",
              "\n",
              "    .dataframe tbody tr th {\n",
              "        vertical-align: top;\n",
              "    }\n",
              "\n",
              "    .dataframe thead th {\n",
              "        text-align: right;\n",
              "    }\n",
              "</style>\n",
              "<table border=\"1\" class=\"dataframe\">\n",
              "  <thead>\n",
              "    <tr style=\"text-align: right;\">\n",
              "      <th></th>\n",
              "      <th>Age</th>\n",
              "      <th>Attrition</th>\n",
              "      <th>BusinessTravel</th>\n",
              "      <th>Department</th>\n",
              "      <th>DistanceFromHome</th>\n",
              "      <th>Education</th>\n",
              "      <th>EducationField</th>\n",
              "      <th>EmployeeNumber</th>\n",
              "      <th>EnvironmentSatisfaction</th>\n",
              "      <th>Gender</th>\n",
              "      <th>...</th>\n",
              "      <th>RelationshipSatisfaction</th>\n",
              "      <th>StandardHours</th>\n",
              "      <th>StockOptionLevel</th>\n",
              "      <th>TotalWorkingYears</th>\n",
              "      <th>TrainingTimesLastYear</th>\n",
              "      <th>WorkLifeBalance</th>\n",
              "      <th>YearsAtCompany</th>\n",
              "      <th>YearsInCurrentRole</th>\n",
              "      <th>YearsSinceLastPromotion</th>\n",
              "      <th>YearsWithCurrManager</th>\n",
              "    </tr>\n",
              "  </thead>\n",
              "  <tbody>\n",
              "    <tr>\n",
              "      <th>1465</th>\n",
              "      <td>36</td>\n",
              "      <td>No</td>\n",
              "      <td>Travel_Frequently</td>\n",
              "      <td>Research &amp; Development</td>\n",
              "      <td>23</td>\n",
              "      <td>College</td>\n",
              "      <td>Medical</td>\n",
              "      <td>2061</td>\n",
              "      <td>High</td>\n",
              "      <td>Male</td>\n",
              "      <td>...</td>\n",
              "      <td>High</td>\n",
              "      <td>80</td>\n",
              "      <td>1</td>\n",
              "      <td>17</td>\n",
              "      <td>3</td>\n",
              "      <td>Better</td>\n",
              "      <td>5</td>\n",
              "      <td>2</td>\n",
              "      <td>0</td>\n",
              "      <td>3</td>\n",
              "    </tr>\n",
              "    <tr>\n",
              "      <th>1466</th>\n",
              "      <td>39</td>\n",
              "      <td>No</td>\n",
              "      <td>Travel_Rarely</td>\n",
              "      <td>Research &amp; Development</td>\n",
              "      <td>6</td>\n",
              "      <td>Below_college</td>\n",
              "      <td>Medical</td>\n",
              "      <td>2062</td>\n",
              "      <td>Very high</td>\n",
              "      <td>Male</td>\n",
              "      <td>...</td>\n",
              "      <td>Low</td>\n",
              "      <td>80</td>\n",
              "      <td>1</td>\n",
              "      <td>9</td>\n",
              "      <td>5</td>\n",
              "      <td>Better</td>\n",
              "      <td>7</td>\n",
              "      <td>7</td>\n",
              "      <td>1</td>\n",
              "      <td>7</td>\n",
              "    </tr>\n",
              "    <tr>\n",
              "      <th>1467</th>\n",
              "      <td>27</td>\n",
              "      <td>No</td>\n",
              "      <td>Travel_Rarely</td>\n",
              "      <td>Research &amp; Development</td>\n",
              "      <td>4</td>\n",
              "      <td>Bachelor</td>\n",
              "      <td>Life Sciences</td>\n",
              "      <td>2064</td>\n",
              "      <td>Medium</td>\n",
              "      <td>Male</td>\n",
              "      <td>...</td>\n",
              "      <td>Medium</td>\n",
              "      <td>80</td>\n",
              "      <td>1</td>\n",
              "      <td>6</td>\n",
              "      <td>0</td>\n",
              "      <td>Better</td>\n",
              "      <td>6</td>\n",
              "      <td>2</td>\n",
              "      <td>0</td>\n",
              "      <td>3</td>\n",
              "    </tr>\n",
              "    <tr>\n",
              "      <th>1468</th>\n",
              "      <td>49</td>\n",
              "      <td>No</td>\n",
              "      <td>Travel_Frequently</td>\n",
              "      <td>Sales</td>\n",
              "      <td>2</td>\n",
              "      <td>Bachelor</td>\n",
              "      <td>Medical</td>\n",
              "      <td>2065</td>\n",
              "      <td>Very high</td>\n",
              "      <td>Male</td>\n",
              "      <td>...</td>\n",
              "      <td>Very High</td>\n",
              "      <td>80</td>\n",
              "      <td>0</td>\n",
              "      <td>17</td>\n",
              "      <td>3</td>\n",
              "      <td>Good</td>\n",
              "      <td>9</td>\n",
              "      <td>6</td>\n",
              "      <td>0</td>\n",
              "      <td>8</td>\n",
              "    </tr>\n",
              "    <tr>\n",
              "      <th>1469</th>\n",
              "      <td>34</td>\n",
              "      <td>No</td>\n",
              "      <td>Travel_Rarely</td>\n",
              "      <td>Research &amp; Development</td>\n",
              "      <td>8</td>\n",
              "      <td>Bachelor</td>\n",
              "      <td>Medical</td>\n",
              "      <td>2068</td>\n",
              "      <td>Medium</td>\n",
              "      <td>Male</td>\n",
              "      <td>...</td>\n",
              "      <td>Low</td>\n",
              "      <td>80</td>\n",
              "      <td>0</td>\n",
              "      <td>6</td>\n",
              "      <td>3</td>\n",
              "      <td>Best</td>\n",
              "      <td>4</td>\n",
              "      <td>3</td>\n",
              "      <td>1</td>\n",
              "      <td>2</td>\n",
              "    </tr>\n",
              "  </tbody>\n",
              "</table>\n",
              "<p>5 rows × 31 columns</p>\n",
              "</div>\n",
              "      <button class=\"colab-df-convert\" onclick=\"convertToInteractive('df-fb031977-56fb-4162-9f0f-b512b2562cb7')\"\n",
              "              title=\"Convert this dataframe to an interactive table.\"\n",
              "              style=\"display:none;\">\n",
              "        \n",
              "  <svg xmlns=\"http://www.w3.org/2000/svg\" height=\"24px\"viewBox=\"0 0 24 24\"\n",
              "       width=\"24px\">\n",
              "    <path d=\"M0 0h24v24H0V0z\" fill=\"none\"/>\n",
              "    <path d=\"M18.56 5.44l.94 2.06.94-2.06 2.06-.94-2.06-.94-.94-2.06-.94 2.06-2.06.94zm-11 1L8.5 8.5l.94-2.06 2.06-.94-2.06-.94L8.5 2.5l-.94 2.06-2.06.94zm10 10l.94 2.06.94-2.06 2.06-.94-2.06-.94-.94-2.06-.94 2.06-2.06.94z\"/><path d=\"M17.41 7.96l-1.37-1.37c-.4-.4-.92-.59-1.43-.59-.52 0-1.04.2-1.43.59L10.3 9.45l-7.72 7.72c-.78.78-.78 2.05 0 2.83L4 21.41c.39.39.9.59 1.41.59.51 0 1.02-.2 1.41-.59l7.78-7.78 2.81-2.81c.8-.78.8-2.07 0-2.86zM5.41 20L4 18.59l7.72-7.72 1.47 1.35L5.41 20z\"/>\n",
              "  </svg>\n",
              "      </button>\n",
              "      \n",
              "  <style>\n",
              "    .colab-df-container {\n",
              "      display:flex;\n",
              "      flex-wrap:wrap;\n",
              "      gap: 12px;\n",
              "    }\n",
              "\n",
              "    .colab-df-convert {\n",
              "      background-color: #E8F0FE;\n",
              "      border: none;\n",
              "      border-radius: 50%;\n",
              "      cursor: pointer;\n",
              "      display: none;\n",
              "      fill: #1967D2;\n",
              "      height: 32px;\n",
              "      padding: 0 0 0 0;\n",
              "      width: 32px;\n",
              "    }\n",
              "\n",
              "    .colab-df-convert:hover {\n",
              "      background-color: #E2EBFA;\n",
              "      box-shadow: 0px 1px 2px rgba(60, 64, 67, 0.3), 0px 1px 3px 1px rgba(60, 64, 67, 0.15);\n",
              "      fill: #174EA6;\n",
              "    }\n",
              "\n",
              "    [theme=dark] .colab-df-convert {\n",
              "      background-color: #3B4455;\n",
              "      fill: #D2E3FC;\n",
              "    }\n",
              "\n",
              "    [theme=dark] .colab-df-convert:hover {\n",
              "      background-color: #434B5C;\n",
              "      box-shadow: 0px 1px 3px 1px rgba(0, 0, 0, 0.15);\n",
              "      filter: drop-shadow(0px 1px 2px rgba(0, 0, 0, 0.3));\n",
              "      fill: #FFFFFF;\n",
              "    }\n",
              "  </style>\n",
              "\n",
              "      <script>\n",
              "        const buttonEl =\n",
              "          document.querySelector('#df-fb031977-56fb-4162-9f0f-b512b2562cb7 button.colab-df-convert');\n",
              "        buttonEl.style.display =\n",
              "          google.colab.kernel.accessAllowed ? 'block' : 'none';\n",
              "\n",
              "        async function convertToInteractive(key) {\n",
              "          const element = document.querySelector('#df-fb031977-56fb-4162-9f0f-b512b2562cb7');\n",
              "          const dataTable =\n",
              "            await google.colab.kernel.invokeFunction('convertToInteractive',\n",
              "                                                     [key], {});\n",
              "          if (!dataTable) return;\n",
              "\n",
              "          const docLinkHtml = 'Like what you see? Visit the ' +\n",
              "            '<a target=\"_blank\" href=https://colab.research.google.com/notebooks/data_table.ipynb>data table notebook</a>'\n",
              "            + ' to learn more about interactive tables.';\n",
              "          element.innerHTML = '';\n",
              "          dataTable['output_type'] = 'display_data';\n",
              "          await google.colab.output.renderOutput(dataTable, element);\n",
              "          const docLink = document.createElement('div');\n",
              "          docLink.innerHTML = docLinkHtml;\n",
              "          element.appendChild(docLink);\n",
              "        }\n",
              "      </script>\n",
              "    </div>\n",
              "  </div>\n",
              "  "
            ]
          },
          "metadata": {},
          "execution_count": 6
        }
      ]
    },
    {
      "cell_type": "code",
      "source": [
        "data.shape"
      ],
      "metadata": {
        "colab": {
          "base_uri": "https://localhost:8080/"
        },
        "id": "prq2eEet4fYK",
        "outputId": "ede05890-c36b-4515-f51c-112207edd0f1"
      },
      "execution_count": null,
      "outputs": [
        {
          "output_type": "execute_result",
          "data": {
            "text/plain": [
              "(1470, 31)"
            ]
          },
          "metadata": {},
          "execution_count": 7
        }
      ]
    },
    {
      "cell_type": "code",
      "source": [
        "data.dtypes"
      ],
      "metadata": {
        "colab": {
          "base_uri": "https://localhost:8080/"
        },
        "id": "QDInaNpr4gpT",
        "outputId": "511a6e75-ac45-4c60-889e-06afe58d9d58"
      },
      "execution_count": null,
      "outputs": [
        {
          "output_type": "execute_result",
          "data": {
            "text/plain": [
              "Age                          int64\n",
              "Attrition                   object\n",
              "BusinessTravel              object\n",
              "Department                  object\n",
              "DistanceFromHome             int64\n",
              "Education                   object\n",
              "EducationField              object\n",
              "EmployeeNumber               int64\n",
              "EnvironmentSatisfaction     object\n",
              "Gender                      object\n",
              "JobInvolvement              object\n",
              "JobLevel                     int64\n",
              "JobRole                     object\n",
              "JobSatisfaction             object\n",
              "MaritalStatus               object\n",
              "MonthlyIncome                int64\n",
              "NumCompaniesWorked           int64\n",
              "Over18                      object\n",
              "OverTime                    object\n",
              "PercentSalaryHike            int64\n",
              "PerformanceRating           object\n",
              "RelationshipSatisfaction    object\n",
              "StandardHours                int64\n",
              "StockOptionLevel             int64\n",
              "TotalWorkingYears            int64\n",
              "TrainingTimesLastYear        int64\n",
              "WorkLifeBalance             object\n",
              "YearsAtCompany               int64\n",
              "YearsInCurrentRole           int64\n",
              "YearsSinceLastPromotion      int64\n",
              "YearsWithCurrManager         int64\n",
              "dtype: object"
            ]
          },
          "metadata": {},
          "execution_count": 8
        }
      ]
    },
    {
      "cell_type": "code",
      "source": [
        "data.describe()"
      ],
      "metadata": {
        "colab": {
          "base_uri": "https://localhost:8080/",
          "height": 364
        },
        "id": "szDvGKQu4iVx",
        "outputId": "85fc4674-e556-479c-cf97-c8dfb328327f"
      },
      "execution_count": null,
      "outputs": [
        {
          "output_type": "execute_result",
          "data": {
            "text/plain": [
              "               Age  DistanceFromHome  EmployeeNumber     JobLevel  \\\n",
              "count  1470.000000       1470.000000     1470.000000  1470.000000   \n",
              "mean     36.923810          9.192517     1024.865306     2.063946   \n",
              "std       9.135373          8.106864      602.024335     1.106940   \n",
              "min      18.000000          1.000000        1.000000     1.000000   \n",
              "25%      30.000000          2.000000      491.250000     1.000000   \n",
              "50%      36.000000          7.000000     1020.500000     2.000000   \n",
              "75%      43.000000         14.000000     1555.750000     3.000000   \n",
              "max      60.000000         29.000000     2068.000000     5.000000   \n",
              "\n",
              "       MonthlyIncome  NumCompaniesWorked  PercentSalaryHike  StandardHours  \\\n",
              "count    1470.000000         1470.000000        1470.000000         1470.0   \n",
              "mean     6502.931293            2.693197          15.209524           80.0   \n",
              "std      4707.956783            2.498009           3.659938            0.0   \n",
              "min      1009.000000            0.000000          11.000000           80.0   \n",
              "25%      2911.000000            1.000000          12.000000           80.0   \n",
              "50%      4919.000000            2.000000          14.000000           80.0   \n",
              "75%      8379.000000            4.000000          18.000000           80.0   \n",
              "max     19999.000000            9.000000          25.000000           80.0   \n",
              "\n",
              "       StockOptionLevel  TotalWorkingYears  TrainingTimesLastYear  \\\n",
              "count       1470.000000        1470.000000            1470.000000   \n",
              "mean           0.793878          11.279592               2.799320   \n",
              "std            0.852077           7.780782               1.289271   \n",
              "min            0.000000           0.000000               0.000000   \n",
              "25%            0.000000           6.000000               2.000000   \n",
              "50%            1.000000          10.000000               3.000000   \n",
              "75%            1.000000          15.000000               3.000000   \n",
              "max            3.000000          40.000000               6.000000   \n",
              "\n",
              "       YearsAtCompany  YearsInCurrentRole  YearsSinceLastPromotion  \\\n",
              "count     1470.000000         1470.000000              1470.000000   \n",
              "mean         7.008163            4.229252                 2.187755   \n",
              "std          6.126525            3.623137                 3.222430   \n",
              "min          0.000000            0.000000                 0.000000   \n",
              "25%          3.000000            2.000000                 0.000000   \n",
              "50%          5.000000            3.000000                 1.000000   \n",
              "75%          9.000000            7.000000                 3.000000   \n",
              "max         40.000000           18.000000                15.000000   \n",
              "\n",
              "       YearsWithCurrManager  \n",
              "count           1470.000000  \n",
              "mean               4.123129  \n",
              "std                3.568136  \n",
              "min                0.000000  \n",
              "25%                2.000000  \n",
              "50%                3.000000  \n",
              "75%                7.000000  \n",
              "max               17.000000  "
            ],
            "text/html": [
              "\n",
              "  <div id=\"df-ae89f9a5-a757-403c-9484-4bebe84d382c\">\n",
              "    <div class=\"colab-df-container\">\n",
              "      <div>\n",
              "<style scoped>\n",
              "    .dataframe tbody tr th:only-of-type {\n",
              "        vertical-align: middle;\n",
              "    }\n",
              "\n",
              "    .dataframe tbody tr th {\n",
              "        vertical-align: top;\n",
              "    }\n",
              "\n",
              "    .dataframe thead th {\n",
              "        text-align: right;\n",
              "    }\n",
              "</style>\n",
              "<table border=\"1\" class=\"dataframe\">\n",
              "  <thead>\n",
              "    <tr style=\"text-align: right;\">\n",
              "      <th></th>\n",
              "      <th>Age</th>\n",
              "      <th>DistanceFromHome</th>\n",
              "      <th>EmployeeNumber</th>\n",
              "      <th>JobLevel</th>\n",
              "      <th>MonthlyIncome</th>\n",
              "      <th>NumCompaniesWorked</th>\n",
              "      <th>PercentSalaryHike</th>\n",
              "      <th>StandardHours</th>\n",
              "      <th>StockOptionLevel</th>\n",
              "      <th>TotalWorkingYears</th>\n",
              "      <th>TrainingTimesLastYear</th>\n",
              "      <th>YearsAtCompany</th>\n",
              "      <th>YearsInCurrentRole</th>\n",
              "      <th>YearsSinceLastPromotion</th>\n",
              "      <th>YearsWithCurrManager</th>\n",
              "    </tr>\n",
              "  </thead>\n",
              "  <tbody>\n",
              "    <tr>\n",
              "      <th>count</th>\n",
              "      <td>1470.000000</td>\n",
              "      <td>1470.000000</td>\n",
              "      <td>1470.000000</td>\n",
              "      <td>1470.000000</td>\n",
              "      <td>1470.000000</td>\n",
              "      <td>1470.000000</td>\n",
              "      <td>1470.000000</td>\n",
              "      <td>1470.0</td>\n",
              "      <td>1470.000000</td>\n",
              "      <td>1470.000000</td>\n",
              "      <td>1470.000000</td>\n",
              "      <td>1470.000000</td>\n",
              "      <td>1470.000000</td>\n",
              "      <td>1470.000000</td>\n",
              "      <td>1470.000000</td>\n",
              "    </tr>\n",
              "    <tr>\n",
              "      <th>mean</th>\n",
              "      <td>36.923810</td>\n",
              "      <td>9.192517</td>\n",
              "      <td>1024.865306</td>\n",
              "      <td>2.063946</td>\n",
              "      <td>6502.931293</td>\n",
              "      <td>2.693197</td>\n",
              "      <td>15.209524</td>\n",
              "      <td>80.0</td>\n",
              "      <td>0.793878</td>\n",
              "      <td>11.279592</td>\n",
              "      <td>2.799320</td>\n",
              "      <td>7.008163</td>\n",
              "      <td>4.229252</td>\n",
              "      <td>2.187755</td>\n",
              "      <td>4.123129</td>\n",
              "    </tr>\n",
              "    <tr>\n",
              "      <th>std</th>\n",
              "      <td>9.135373</td>\n",
              "      <td>8.106864</td>\n",
              "      <td>602.024335</td>\n",
              "      <td>1.106940</td>\n",
              "      <td>4707.956783</td>\n",
              "      <td>2.498009</td>\n",
              "      <td>3.659938</td>\n",
              "      <td>0.0</td>\n",
              "      <td>0.852077</td>\n",
              "      <td>7.780782</td>\n",
              "      <td>1.289271</td>\n",
              "      <td>6.126525</td>\n",
              "      <td>3.623137</td>\n",
              "      <td>3.222430</td>\n",
              "      <td>3.568136</td>\n",
              "    </tr>\n",
              "    <tr>\n",
              "      <th>min</th>\n",
              "      <td>18.000000</td>\n",
              "      <td>1.000000</td>\n",
              "      <td>1.000000</td>\n",
              "      <td>1.000000</td>\n",
              "      <td>1009.000000</td>\n",
              "      <td>0.000000</td>\n",
              "      <td>11.000000</td>\n",
              "      <td>80.0</td>\n",
              "      <td>0.000000</td>\n",
              "      <td>0.000000</td>\n",
              "      <td>0.000000</td>\n",
              "      <td>0.000000</td>\n",
              "      <td>0.000000</td>\n",
              "      <td>0.000000</td>\n",
              "      <td>0.000000</td>\n",
              "    </tr>\n",
              "    <tr>\n",
              "      <th>25%</th>\n",
              "      <td>30.000000</td>\n",
              "      <td>2.000000</td>\n",
              "      <td>491.250000</td>\n",
              "      <td>1.000000</td>\n",
              "      <td>2911.000000</td>\n",
              "      <td>1.000000</td>\n",
              "      <td>12.000000</td>\n",
              "      <td>80.0</td>\n",
              "      <td>0.000000</td>\n",
              "      <td>6.000000</td>\n",
              "      <td>2.000000</td>\n",
              "      <td>3.000000</td>\n",
              "      <td>2.000000</td>\n",
              "      <td>0.000000</td>\n",
              "      <td>2.000000</td>\n",
              "    </tr>\n",
              "    <tr>\n",
              "      <th>50%</th>\n",
              "      <td>36.000000</td>\n",
              "      <td>7.000000</td>\n",
              "      <td>1020.500000</td>\n",
              "      <td>2.000000</td>\n",
              "      <td>4919.000000</td>\n",
              "      <td>2.000000</td>\n",
              "      <td>14.000000</td>\n",
              "      <td>80.0</td>\n",
              "      <td>1.000000</td>\n",
              "      <td>10.000000</td>\n",
              "      <td>3.000000</td>\n",
              "      <td>5.000000</td>\n",
              "      <td>3.000000</td>\n",
              "      <td>1.000000</td>\n",
              "      <td>3.000000</td>\n",
              "    </tr>\n",
              "    <tr>\n",
              "      <th>75%</th>\n",
              "      <td>43.000000</td>\n",
              "      <td>14.000000</td>\n",
              "      <td>1555.750000</td>\n",
              "      <td>3.000000</td>\n",
              "      <td>8379.000000</td>\n",
              "      <td>4.000000</td>\n",
              "      <td>18.000000</td>\n",
              "      <td>80.0</td>\n",
              "      <td>1.000000</td>\n",
              "      <td>15.000000</td>\n",
              "      <td>3.000000</td>\n",
              "      <td>9.000000</td>\n",
              "      <td>7.000000</td>\n",
              "      <td>3.000000</td>\n",
              "      <td>7.000000</td>\n",
              "    </tr>\n",
              "    <tr>\n",
              "      <th>max</th>\n",
              "      <td>60.000000</td>\n",
              "      <td>29.000000</td>\n",
              "      <td>2068.000000</td>\n",
              "      <td>5.000000</td>\n",
              "      <td>19999.000000</td>\n",
              "      <td>9.000000</td>\n",
              "      <td>25.000000</td>\n",
              "      <td>80.0</td>\n",
              "      <td>3.000000</td>\n",
              "      <td>40.000000</td>\n",
              "      <td>6.000000</td>\n",
              "      <td>40.000000</td>\n",
              "      <td>18.000000</td>\n",
              "      <td>15.000000</td>\n",
              "      <td>17.000000</td>\n",
              "    </tr>\n",
              "  </tbody>\n",
              "</table>\n",
              "</div>\n",
              "      <button class=\"colab-df-convert\" onclick=\"convertToInteractive('df-ae89f9a5-a757-403c-9484-4bebe84d382c')\"\n",
              "              title=\"Convert this dataframe to an interactive table.\"\n",
              "              style=\"display:none;\">\n",
              "        \n",
              "  <svg xmlns=\"http://www.w3.org/2000/svg\" height=\"24px\"viewBox=\"0 0 24 24\"\n",
              "       width=\"24px\">\n",
              "    <path d=\"M0 0h24v24H0V0z\" fill=\"none\"/>\n",
              "    <path d=\"M18.56 5.44l.94 2.06.94-2.06 2.06-.94-2.06-.94-.94-2.06-.94 2.06-2.06.94zm-11 1L8.5 8.5l.94-2.06 2.06-.94-2.06-.94L8.5 2.5l-.94 2.06-2.06.94zm10 10l.94 2.06.94-2.06 2.06-.94-2.06-.94-.94-2.06-.94 2.06-2.06.94z\"/><path d=\"M17.41 7.96l-1.37-1.37c-.4-.4-.92-.59-1.43-.59-.52 0-1.04.2-1.43.59L10.3 9.45l-7.72 7.72c-.78.78-.78 2.05 0 2.83L4 21.41c.39.39.9.59 1.41.59.51 0 1.02-.2 1.41-.59l7.78-7.78 2.81-2.81c.8-.78.8-2.07 0-2.86zM5.41 20L4 18.59l7.72-7.72 1.47 1.35L5.41 20z\"/>\n",
              "  </svg>\n",
              "      </button>\n",
              "      \n",
              "  <style>\n",
              "    .colab-df-container {\n",
              "      display:flex;\n",
              "      flex-wrap:wrap;\n",
              "      gap: 12px;\n",
              "    }\n",
              "\n",
              "    .colab-df-convert {\n",
              "      background-color: #E8F0FE;\n",
              "      border: none;\n",
              "      border-radius: 50%;\n",
              "      cursor: pointer;\n",
              "      display: none;\n",
              "      fill: #1967D2;\n",
              "      height: 32px;\n",
              "      padding: 0 0 0 0;\n",
              "      width: 32px;\n",
              "    }\n",
              "\n",
              "    .colab-df-convert:hover {\n",
              "      background-color: #E2EBFA;\n",
              "      box-shadow: 0px 1px 2px rgba(60, 64, 67, 0.3), 0px 1px 3px 1px rgba(60, 64, 67, 0.15);\n",
              "      fill: #174EA6;\n",
              "    }\n",
              "\n",
              "    [theme=dark] .colab-df-convert {\n",
              "      background-color: #3B4455;\n",
              "      fill: #D2E3FC;\n",
              "    }\n",
              "\n",
              "    [theme=dark] .colab-df-convert:hover {\n",
              "      background-color: #434B5C;\n",
              "      box-shadow: 0px 1px 3px 1px rgba(0, 0, 0, 0.15);\n",
              "      filter: drop-shadow(0px 1px 2px rgba(0, 0, 0, 0.3));\n",
              "      fill: #FFFFFF;\n",
              "    }\n",
              "  </style>\n",
              "\n",
              "      <script>\n",
              "        const buttonEl =\n",
              "          document.querySelector('#df-ae89f9a5-a757-403c-9484-4bebe84d382c button.colab-df-convert');\n",
              "        buttonEl.style.display =\n",
              "          google.colab.kernel.accessAllowed ? 'block' : 'none';\n",
              "\n",
              "        async function convertToInteractive(key) {\n",
              "          const element = document.querySelector('#df-ae89f9a5-a757-403c-9484-4bebe84d382c');\n",
              "          const dataTable =\n",
              "            await google.colab.kernel.invokeFunction('convertToInteractive',\n",
              "                                                     [key], {});\n",
              "          if (!dataTable) return;\n",
              "\n",
              "          const docLinkHtml = 'Like what you see? Visit the ' +\n",
              "            '<a target=\"_blank\" href=https://colab.research.google.com/notebooks/data_table.ipynb>data table notebook</a>'\n",
              "            + ' to learn more about interactive tables.';\n",
              "          element.innerHTML = '';\n",
              "          dataTable['output_type'] = 'display_data';\n",
              "          await google.colab.output.renderOutput(dataTable, element);\n",
              "          const docLink = document.createElement('div');\n",
              "          docLink.innerHTML = docLinkHtml;\n",
              "          element.appendChild(docLink);\n",
              "        }\n",
              "      </script>\n",
              "    </div>\n",
              "  </div>\n",
              "  "
            ]
          },
          "metadata": {},
          "execution_count": 9
        }
      ]
    },
    {
      "cell_type": "code",
      "source": [
        "X_train_num.corr()"
      ],
      "metadata": {
        "colab": {
          "base_uri": "https://localhost:8080/",
          "height": 521
        },
        "id": "2XCdZMdtTXoj",
        "outputId": "ed0276ac-1d9f-4351-e0f3-e3dc65ac4e47"
      },
      "execution_count": null,
      "outputs": [
        {
          "output_type": "execute_result",
          "data": {
            "text/plain": [
              "                              Age  DistanceFromHome  JobLevel  MonthlyIncome  \\\n",
              "Age                      1.000000         -0.017117  0.512254       0.501641   \n",
              "DistanceFromHome        -0.017117          1.000000 -0.002973      -0.031037   \n",
              "JobLevel                 0.512254         -0.002973  1.000000       0.950604   \n",
              "MonthlyIncome            0.501641         -0.031037  0.950604       1.000000   \n",
              "NumCompaniesWorked       0.292043         -0.028131  0.142490       0.150311   \n",
              "PercentSalaryHike       -0.003571          0.040397 -0.042017      -0.039264   \n",
              "StockOptionLevel         0.039603          0.056106  0.003978      -0.006711   \n",
              "TotalWorkingYears        0.683003         -0.003875  0.779709       0.769732   \n",
              "TrainingTimesLastYear   -0.012771         -0.035385 -0.017041      -0.024827   \n",
              "YearsAtCompany           0.315126          0.008817  0.524839       0.505009   \n",
              "YearsInCurrentRole       0.218024          0.024662  0.375665       0.351335   \n",
              "YearsSinceLastPromotion  0.222307         -0.004087  0.345154       0.338843   \n",
              "YearsWithCurrManager     0.194142          0.007351  0.360211       0.326225   \n",
              "\n",
              "                         NumCompaniesWorked  PercentSalaryHike  \\\n",
              "Age                                0.292043          -0.003571   \n",
              "DistanceFromHome                  -0.028131           0.040397   \n",
              "JobLevel                           0.142490          -0.042017   \n",
              "MonthlyIncome                      0.150311          -0.039264   \n",
              "NumCompaniesWorked                 1.000000          -0.012032   \n",
              "PercentSalaryHike                 -0.012032           1.000000   \n",
              "StockOptionLevel                   0.037626          -0.003657   \n",
              "TotalWorkingYears                  0.224989          -0.031406   \n",
              "TrainingTimesLastYear             -0.070956          -0.028894   \n",
              "YearsAtCompany                    -0.132875          -0.046994   \n",
              "YearsInCurrentRole                -0.098915          -0.012352   \n",
              "YearsSinceLastPromotion           -0.040052          -0.031929   \n",
              "YearsWithCurrManager              -0.125435          -0.022672   \n",
              "\n",
              "                         StockOptionLevel  TotalWorkingYears  \\\n",
              "Age                              0.039603           0.683003   \n",
              "DistanceFromHome                 0.056106          -0.003875   \n",
              "JobLevel                         0.003978           0.779709   \n",
              "MonthlyIncome                   -0.006711           0.769732   \n",
              "NumCompaniesWorked               0.037626           0.224989   \n",
              "PercentSalaryHike               -0.003657          -0.031406   \n",
              "StockOptionLevel                 1.000000           0.008553   \n",
              "TotalWorkingYears                0.008553           1.000000   \n",
              "TrainingTimesLastYear            0.014993          -0.034376   \n",
              "YearsAtCompany                  -0.005244           0.627308   \n",
              "YearsInCurrentRole               0.027746           0.454969   \n",
              "YearsSinceLastPromotion          0.000837           0.403115   \n",
              "YearsWithCurrManager             0.009361           0.445367   \n",
              "\n",
              "                         TrainingTimesLastYear  YearsAtCompany  \\\n",
              "Age                                  -0.012771        0.315126   \n",
              "DistanceFromHome                     -0.035385        0.008817   \n",
              "JobLevel                             -0.017041        0.524839   \n",
              "MonthlyIncome                        -0.024827        0.505009   \n",
              "NumCompaniesWorked                   -0.070956       -0.132875   \n",
              "PercentSalaryHike                    -0.028894       -0.046994   \n",
              "StockOptionLevel                      0.014993       -0.005244   \n",
              "TotalWorkingYears                    -0.034376        0.627308   \n",
              "TrainingTimesLastYear                 1.000000        0.011534   \n",
              "YearsAtCompany                        0.011534        1.000000   \n",
              "YearsInCurrentRole                    0.004188        0.752113   \n",
              "YearsSinceLastPromotion               0.011445        0.612018   \n",
              "YearsWithCurrManager                  0.014723        0.762986   \n",
              "\n",
              "                         YearsInCurrentRole  YearsSinceLastPromotion  \\\n",
              "Age                                0.218024                 0.222307   \n",
              "DistanceFromHome                   0.024662                -0.004087   \n",
              "JobLevel                           0.375665                 0.345154   \n",
              "MonthlyIncome                      0.351335                 0.338843   \n",
              "NumCompaniesWorked                -0.098915                -0.040052   \n",
              "PercentSalaryHike                 -0.012352                -0.031929   \n",
              "StockOptionLevel                   0.027746                 0.000837   \n",
              "TotalWorkingYears                  0.454969                 0.403115   \n",
              "TrainingTimesLastYear              0.004188                 0.011445   \n",
              "YearsAtCompany                     0.752113                 0.612018   \n",
              "YearsInCurrentRole                 1.000000                 0.541779   \n",
              "YearsSinceLastPromotion            0.541779                 1.000000   \n",
              "YearsWithCurrManager               0.713817                 0.498209   \n",
              "\n",
              "                         YearsWithCurrManager  \n",
              "Age                                  0.194142  \n",
              "DistanceFromHome                     0.007351  \n",
              "JobLevel                             0.360211  \n",
              "MonthlyIncome                        0.326225  \n",
              "NumCompaniesWorked                  -0.125435  \n",
              "PercentSalaryHike                   -0.022672  \n",
              "StockOptionLevel                     0.009361  \n",
              "TotalWorkingYears                    0.445367  \n",
              "TrainingTimesLastYear                0.014723  \n",
              "YearsAtCompany                       0.762986  \n",
              "YearsInCurrentRole                   0.713817  \n",
              "YearsSinceLastPromotion              0.498209  \n",
              "YearsWithCurrManager                 1.000000  "
            ],
            "text/html": [
              "\n",
              "  <div id=\"df-0257eb73-fdb0-474e-a285-1f79cee9f233\">\n",
              "    <div class=\"colab-df-container\">\n",
              "      <div>\n",
              "<style scoped>\n",
              "    .dataframe tbody tr th:only-of-type {\n",
              "        vertical-align: middle;\n",
              "    }\n",
              "\n",
              "    .dataframe tbody tr th {\n",
              "        vertical-align: top;\n",
              "    }\n",
              "\n",
              "    .dataframe thead th {\n",
              "        text-align: right;\n",
              "    }\n",
              "</style>\n",
              "<table border=\"1\" class=\"dataframe\">\n",
              "  <thead>\n",
              "    <tr style=\"text-align: right;\">\n",
              "      <th></th>\n",
              "      <th>Age</th>\n",
              "      <th>DistanceFromHome</th>\n",
              "      <th>JobLevel</th>\n",
              "      <th>MonthlyIncome</th>\n",
              "      <th>NumCompaniesWorked</th>\n",
              "      <th>PercentSalaryHike</th>\n",
              "      <th>StockOptionLevel</th>\n",
              "      <th>TotalWorkingYears</th>\n",
              "      <th>TrainingTimesLastYear</th>\n",
              "      <th>YearsAtCompany</th>\n",
              "      <th>YearsInCurrentRole</th>\n",
              "      <th>YearsSinceLastPromotion</th>\n",
              "      <th>YearsWithCurrManager</th>\n",
              "    </tr>\n",
              "  </thead>\n",
              "  <tbody>\n",
              "    <tr>\n",
              "      <th>Age</th>\n",
              "      <td>1.000000</td>\n",
              "      <td>-0.017117</td>\n",
              "      <td>0.512254</td>\n",
              "      <td>0.501641</td>\n",
              "      <td>0.292043</td>\n",
              "      <td>-0.003571</td>\n",
              "      <td>0.039603</td>\n",
              "      <td>0.683003</td>\n",
              "      <td>-0.012771</td>\n",
              "      <td>0.315126</td>\n",
              "      <td>0.218024</td>\n",
              "      <td>0.222307</td>\n",
              "      <td>0.194142</td>\n",
              "    </tr>\n",
              "    <tr>\n",
              "      <th>DistanceFromHome</th>\n",
              "      <td>-0.017117</td>\n",
              "      <td>1.000000</td>\n",
              "      <td>-0.002973</td>\n",
              "      <td>-0.031037</td>\n",
              "      <td>-0.028131</td>\n",
              "      <td>0.040397</td>\n",
              "      <td>0.056106</td>\n",
              "      <td>-0.003875</td>\n",
              "      <td>-0.035385</td>\n",
              "      <td>0.008817</td>\n",
              "      <td>0.024662</td>\n",
              "      <td>-0.004087</td>\n",
              "      <td>0.007351</td>\n",
              "    </tr>\n",
              "    <tr>\n",
              "      <th>JobLevel</th>\n",
              "      <td>0.512254</td>\n",
              "      <td>-0.002973</td>\n",
              "      <td>1.000000</td>\n",
              "      <td>0.950604</td>\n",
              "      <td>0.142490</td>\n",
              "      <td>-0.042017</td>\n",
              "      <td>0.003978</td>\n",
              "      <td>0.779709</td>\n",
              "      <td>-0.017041</td>\n",
              "      <td>0.524839</td>\n",
              "      <td>0.375665</td>\n",
              "      <td>0.345154</td>\n",
              "      <td>0.360211</td>\n",
              "    </tr>\n",
              "    <tr>\n",
              "      <th>MonthlyIncome</th>\n",
              "      <td>0.501641</td>\n",
              "      <td>-0.031037</td>\n",
              "      <td>0.950604</td>\n",
              "      <td>1.000000</td>\n",
              "      <td>0.150311</td>\n",
              "      <td>-0.039264</td>\n",
              "      <td>-0.006711</td>\n",
              "      <td>0.769732</td>\n",
              "      <td>-0.024827</td>\n",
              "      <td>0.505009</td>\n",
              "      <td>0.351335</td>\n",
              "      <td>0.338843</td>\n",
              "      <td>0.326225</td>\n",
              "    </tr>\n",
              "    <tr>\n",
              "      <th>NumCompaniesWorked</th>\n",
              "      <td>0.292043</td>\n",
              "      <td>-0.028131</td>\n",
              "      <td>0.142490</td>\n",
              "      <td>0.150311</td>\n",
              "      <td>1.000000</td>\n",
              "      <td>-0.012032</td>\n",
              "      <td>0.037626</td>\n",
              "      <td>0.224989</td>\n",
              "      <td>-0.070956</td>\n",
              "      <td>-0.132875</td>\n",
              "      <td>-0.098915</td>\n",
              "      <td>-0.040052</td>\n",
              "      <td>-0.125435</td>\n",
              "    </tr>\n",
              "    <tr>\n",
              "      <th>PercentSalaryHike</th>\n",
              "      <td>-0.003571</td>\n",
              "      <td>0.040397</td>\n",
              "      <td>-0.042017</td>\n",
              "      <td>-0.039264</td>\n",
              "      <td>-0.012032</td>\n",
              "      <td>1.000000</td>\n",
              "      <td>-0.003657</td>\n",
              "      <td>-0.031406</td>\n",
              "      <td>-0.028894</td>\n",
              "      <td>-0.046994</td>\n",
              "      <td>-0.012352</td>\n",
              "      <td>-0.031929</td>\n",
              "      <td>-0.022672</td>\n",
              "    </tr>\n",
              "    <tr>\n",
              "      <th>StockOptionLevel</th>\n",
              "      <td>0.039603</td>\n",
              "      <td>0.056106</td>\n",
              "      <td>0.003978</td>\n",
              "      <td>-0.006711</td>\n",
              "      <td>0.037626</td>\n",
              "      <td>-0.003657</td>\n",
              "      <td>1.000000</td>\n",
              "      <td>0.008553</td>\n",
              "      <td>0.014993</td>\n",
              "      <td>-0.005244</td>\n",
              "      <td>0.027746</td>\n",
              "      <td>0.000837</td>\n",
              "      <td>0.009361</td>\n",
              "    </tr>\n",
              "    <tr>\n",
              "      <th>TotalWorkingYears</th>\n",
              "      <td>0.683003</td>\n",
              "      <td>-0.003875</td>\n",
              "      <td>0.779709</td>\n",
              "      <td>0.769732</td>\n",
              "      <td>0.224989</td>\n",
              "      <td>-0.031406</td>\n",
              "      <td>0.008553</td>\n",
              "      <td>1.000000</td>\n",
              "      <td>-0.034376</td>\n",
              "      <td>0.627308</td>\n",
              "      <td>0.454969</td>\n",
              "      <td>0.403115</td>\n",
              "      <td>0.445367</td>\n",
              "    </tr>\n",
              "    <tr>\n",
              "      <th>TrainingTimesLastYear</th>\n",
              "      <td>-0.012771</td>\n",
              "      <td>-0.035385</td>\n",
              "      <td>-0.017041</td>\n",
              "      <td>-0.024827</td>\n",
              "      <td>-0.070956</td>\n",
              "      <td>-0.028894</td>\n",
              "      <td>0.014993</td>\n",
              "      <td>-0.034376</td>\n",
              "      <td>1.000000</td>\n",
              "      <td>0.011534</td>\n",
              "      <td>0.004188</td>\n",
              "      <td>0.011445</td>\n",
              "      <td>0.014723</td>\n",
              "    </tr>\n",
              "    <tr>\n",
              "      <th>YearsAtCompany</th>\n",
              "      <td>0.315126</td>\n",
              "      <td>0.008817</td>\n",
              "      <td>0.524839</td>\n",
              "      <td>0.505009</td>\n",
              "      <td>-0.132875</td>\n",
              "      <td>-0.046994</td>\n",
              "      <td>-0.005244</td>\n",
              "      <td>0.627308</td>\n",
              "      <td>0.011534</td>\n",
              "      <td>1.000000</td>\n",
              "      <td>0.752113</td>\n",
              "      <td>0.612018</td>\n",
              "      <td>0.762986</td>\n",
              "    </tr>\n",
              "    <tr>\n",
              "      <th>YearsInCurrentRole</th>\n",
              "      <td>0.218024</td>\n",
              "      <td>0.024662</td>\n",
              "      <td>0.375665</td>\n",
              "      <td>0.351335</td>\n",
              "      <td>-0.098915</td>\n",
              "      <td>-0.012352</td>\n",
              "      <td>0.027746</td>\n",
              "      <td>0.454969</td>\n",
              "      <td>0.004188</td>\n",
              "      <td>0.752113</td>\n",
              "      <td>1.000000</td>\n",
              "      <td>0.541779</td>\n",
              "      <td>0.713817</td>\n",
              "    </tr>\n",
              "    <tr>\n",
              "      <th>YearsSinceLastPromotion</th>\n",
              "      <td>0.222307</td>\n",
              "      <td>-0.004087</td>\n",
              "      <td>0.345154</td>\n",
              "      <td>0.338843</td>\n",
              "      <td>-0.040052</td>\n",
              "      <td>-0.031929</td>\n",
              "      <td>0.000837</td>\n",
              "      <td>0.403115</td>\n",
              "      <td>0.011445</td>\n",
              "      <td>0.612018</td>\n",
              "      <td>0.541779</td>\n",
              "      <td>1.000000</td>\n",
              "      <td>0.498209</td>\n",
              "    </tr>\n",
              "    <tr>\n",
              "      <th>YearsWithCurrManager</th>\n",
              "      <td>0.194142</td>\n",
              "      <td>0.007351</td>\n",
              "      <td>0.360211</td>\n",
              "      <td>0.326225</td>\n",
              "      <td>-0.125435</td>\n",
              "      <td>-0.022672</td>\n",
              "      <td>0.009361</td>\n",
              "      <td>0.445367</td>\n",
              "      <td>0.014723</td>\n",
              "      <td>0.762986</td>\n",
              "      <td>0.713817</td>\n",
              "      <td>0.498209</td>\n",
              "      <td>1.000000</td>\n",
              "    </tr>\n",
              "  </tbody>\n",
              "</table>\n",
              "</div>\n",
              "      <button class=\"colab-df-convert\" onclick=\"convertToInteractive('df-0257eb73-fdb0-474e-a285-1f79cee9f233')\"\n",
              "              title=\"Convert this dataframe to an interactive table.\"\n",
              "              style=\"display:none;\">\n",
              "        \n",
              "  <svg xmlns=\"http://www.w3.org/2000/svg\" height=\"24px\"viewBox=\"0 0 24 24\"\n",
              "       width=\"24px\">\n",
              "    <path d=\"M0 0h24v24H0V0z\" fill=\"none\"/>\n",
              "    <path d=\"M18.56 5.44l.94 2.06.94-2.06 2.06-.94-2.06-.94-.94-2.06-.94 2.06-2.06.94zm-11 1L8.5 8.5l.94-2.06 2.06-.94-2.06-.94L8.5 2.5l-.94 2.06-2.06.94zm10 10l.94 2.06.94-2.06 2.06-.94-2.06-.94-.94-2.06-.94 2.06-2.06.94z\"/><path d=\"M17.41 7.96l-1.37-1.37c-.4-.4-.92-.59-1.43-.59-.52 0-1.04.2-1.43.59L10.3 9.45l-7.72 7.72c-.78.78-.78 2.05 0 2.83L4 21.41c.39.39.9.59 1.41.59.51 0 1.02-.2 1.41-.59l7.78-7.78 2.81-2.81c.8-.78.8-2.07 0-2.86zM5.41 20L4 18.59l7.72-7.72 1.47 1.35L5.41 20z\"/>\n",
              "  </svg>\n",
              "      </button>\n",
              "      \n",
              "  <style>\n",
              "    .colab-df-container {\n",
              "      display:flex;\n",
              "      flex-wrap:wrap;\n",
              "      gap: 12px;\n",
              "    }\n",
              "\n",
              "    .colab-df-convert {\n",
              "      background-color: #E8F0FE;\n",
              "      border: none;\n",
              "      border-radius: 50%;\n",
              "      cursor: pointer;\n",
              "      display: none;\n",
              "      fill: #1967D2;\n",
              "      height: 32px;\n",
              "      padding: 0 0 0 0;\n",
              "      width: 32px;\n",
              "    }\n",
              "\n",
              "    .colab-df-convert:hover {\n",
              "      background-color: #E2EBFA;\n",
              "      box-shadow: 0px 1px 2px rgba(60, 64, 67, 0.3), 0px 1px 3px 1px rgba(60, 64, 67, 0.15);\n",
              "      fill: #174EA6;\n",
              "    }\n",
              "\n",
              "    [theme=dark] .colab-df-convert {\n",
              "      background-color: #3B4455;\n",
              "      fill: #D2E3FC;\n",
              "    }\n",
              "\n",
              "    [theme=dark] .colab-df-convert:hover {\n",
              "      background-color: #434B5C;\n",
              "      box-shadow: 0px 1px 3px 1px rgba(0, 0, 0, 0.15);\n",
              "      filter: drop-shadow(0px 1px 2px rgba(0, 0, 0, 0.3));\n",
              "      fill: #FFFFFF;\n",
              "    }\n",
              "  </style>\n",
              "\n",
              "      <script>\n",
              "        const buttonEl =\n",
              "          document.querySelector('#df-0257eb73-fdb0-474e-a285-1f79cee9f233 button.colab-df-convert');\n",
              "        buttonEl.style.display =\n",
              "          google.colab.kernel.accessAllowed ? 'block' : 'none';\n",
              "\n",
              "        async function convertToInteractive(key) {\n",
              "          const element = document.querySelector('#df-0257eb73-fdb0-474e-a285-1f79cee9f233');\n",
              "          const dataTable =\n",
              "            await google.colab.kernel.invokeFunction('convertToInteractive',\n",
              "                                                     [key], {});\n",
              "          if (!dataTable) return;\n",
              "\n",
              "          const docLinkHtml = 'Like what you see? Visit the ' +\n",
              "            '<a target=\"_blank\" href=https://colab.research.google.com/notebooks/data_table.ipynb>data table notebook</a>'\n",
              "            + ' to learn more about interactive tables.';\n",
              "          element.innerHTML = '';\n",
              "          dataTable['output_type'] = 'display_data';\n",
              "          await google.colab.output.renderOutput(dataTable, element);\n",
              "          const docLink = document.createElement('div');\n",
              "          docLink.innerHTML = docLinkHtml;\n",
              "          element.appendChild(docLink);\n",
              "        }\n",
              "      </script>\n",
              "    </div>\n",
              "  </div>\n",
              "  "
            ]
          },
          "metadata": {},
          "execution_count": 94
        }
      ]
    },
    {
      "cell_type": "code",
      "source": [
        "Y_train=Y_train.astype('category')\n",
        "Y_test=Y_test.astype('category')"
      ],
      "metadata": {
        "id": "qsIOV-guN7Ka"
      },
      "execution_count": null,
      "outputs": []
    },
    {
      "cell_type": "code",
      "source": [
        "Y_train.value_counts(normalize=True)"
      ],
      "metadata": {
        "colab": {
          "base_uri": "https://localhost:8080/"
        },
        "id": "o-4ItCsROlL-",
        "outputId": "cf1f88c1-c63c-4fd5-9784-c79a4c6c8164"
      },
      "execution_count": null,
      "outputs": [
        {
          "output_type": "execute_result",
          "data": {
            "text/plain": [
              "No     0.833711\n",
              "Yes    0.166289\n",
              "Name: Attrition, dtype: float64"
            ]
          },
          "metadata": {},
          "execution_count": 75
        }
      ]
    },
    {
      "cell_type": "code",
      "source": [
        "Y_train.value_counts(normalize=True)*100"
      ],
      "metadata": {
        "colab": {
          "base_uri": "https://localhost:8080/"
        },
        "id": "xgh1uD9rOuca",
        "outputId": "a6cc77db-806e-400d-adfd-730d4876a231"
      },
      "execution_count": null,
      "outputs": [
        {
          "output_type": "execute_result",
          "data": {
            "text/plain": [
              "No     83.371126\n",
              "Yes    16.628874\n",
              "Name: Attrition, dtype: float64"
            ]
          },
          "metadata": {},
          "execution_count": 76
        }
      ]
    },
    {
      "cell_type": "code",
      "source": [
        "Y_train.value_counts()"
      ],
      "metadata": {
        "colab": {
          "base_uri": "https://localhost:8080/"
        },
        "id": "-DB4L6CLO52U",
        "outputId": "04bc94ed-e1a7-4f23-c6a7-9905e698d201"
      },
      "execution_count": null,
      "outputs": [
        {
          "output_type": "execute_result",
          "data": {
            "text/plain": [
              "No     1103\n",
              "Yes     220\n",
              "Name: Attrition, dtype: int64"
            ]
          },
          "metadata": {},
          "execution_count": 77
        }
      ]
    },
    {
      "cell_type": "code",
      "source": [
        "Y_train.value_counts().plot(kind='bar',color='pink')"
      ],
      "metadata": {
        "colab": {
          "base_uri": "https://localhost:8080/",
          "height": 288
        },
        "id": "38LxHENpQIAS",
        "outputId": "47461b07-1f0e-464c-8b9a-866a809f216e"
      },
      "execution_count": null,
      "outputs": [
        {
          "output_type": "execute_result",
          "data": {
            "text/plain": [
              "<matplotlib.axes._subplots.AxesSubplot at 0x7fabea405390>"
            ]
          },
          "metadata": {},
          "execution_count": 78
        },
        {
          "output_type": "display_data",
          "data": {
            "text/plain": [
              "<Figure size 432x288 with 1 Axes>"
            ],
            "image/png": "[encoded data removed]"
          },
          "metadata": {
            "needs_background": "light"
          }
        }
      ]
    },
    {
      "cell_type": "code",
      "source": [
        "Y_train"
      ],
      "metadata": {
        "colab": {
          "base_uri": "https://localhost:8080/"
        },
        "id": "e_zC9bbDQiyl",
        "outputId": "10771035-8cd8-4ffc-9945-f63395243f54"
      },
      "execution_count": null,
      "outputs": [
        {
          "output_type": "execute_result",
          "data": {
            "text/plain": [
              "1088     No\n",
              "1151     No\n",
              "472      No\n",
              "1282     No\n",
              "857     Yes\n",
              "       ... \n",
              "1041     No\n",
              "1122     No\n",
              "1346     No\n",
              "1406     No\n",
              "1389     No\n",
              "Name: Attrition, Length: 1323, dtype: category\n",
              "Categories (2, object): ['No', 'Yes']"
            ]
          },
          "metadata": {},
          "execution_count": 91
        }
      ]
    },
    {
      "cell_type": "code",
      "source": [
        "plt.bar(Y_train.value_counts(), color ='blue',width = 0.4,height=4)\n",
        "plt.xlabel(\"Attrition\")\n",
        "plt.ylabel(\"value_counts\")\n",
        "plt.title(\"Attrition barplot\")\n",
        "plt.show()\n"
      ],
      "metadata": {
        "colab": {
          "base_uri": "https://localhost:8080/",
          "height": 380
        },
        "id": "khEUlt1UO_dL",
        "outputId": "d33f6aef-df8f-4903-935c-b8a400d0ed91"
      },
      "execution_count": null,
      "outputs": [
        {
          "output_type": "error",
          "ename": "KeyError",
          "evalue": "ignored",
          "traceback": [
            "\u001b[0;31m---------------------------------------------------------------------------\u001b[0m",
            "\u001b[0;31mKeyError\u001b[0m                                  Traceback (most recent call last)",
            "\u001b[0;32m<ipython-input-92-f5a2b1787d94>\u001b[0m in \u001b[0;36m<module>\u001b[0;34m\u001b[0m\n\u001b[0;32m----> 1\u001b[0;31m \u001b[0mplt\u001b[0m\u001b[0;34m.\u001b[0m\u001b[0mbar\u001b[0m\u001b[0;34m(\u001b[0m\u001b[0mY_train\u001b[0m\u001b[0;34m[\u001b[0m\u001b[0;34m'Yes'\u001b[0m\u001b[0;34m,\u001b[0m\u001b[0;34m'No'\u001b[0m\u001b[0;34m]\u001b[0m\u001b[0;34m,\u001b[0m\u001b[0mY_train\u001b[0m\u001b[0;34m.\u001b[0m\u001b[0mvalue_counts\u001b[0m\u001b[0;34m(\u001b[0m\u001b[0;34m)\u001b[0m\u001b[0;34m,\u001b[0m \u001b[0mcolor\u001b[0m \u001b[0;34m=\u001b[0m\u001b[0;34m'blue'\u001b[0m\u001b[0;34m,\u001b[0m\u001b[0mwidth\u001b[0m \u001b[0;34m=\u001b[0m \u001b[0;36m0.4\u001b[0m\u001b[0;34m,\u001b[0m\u001b[0mheight\u001b[0m\u001b[0;34m=\u001b[0m\u001b[0;36m4\u001b[0m\u001b[0;34m)\u001b[0m\u001b[0;34m\u001b[0m\u001b[0;34m\u001b[0m\u001b[0m\n\u001b[0m\u001b[1;32m      2\u001b[0m \u001b[0mplt\u001b[0m\u001b[0;34m.\u001b[0m\u001b[0mxlabel\u001b[0m\u001b[0;34m(\u001b[0m\u001b[0;34m\"Attrition\"\u001b[0m\u001b[0;34m)\u001b[0m\u001b[0;34m\u001b[0m\u001b[0;34m\u001b[0m\u001b[0m\n\u001b[1;32m      3\u001b[0m \u001b[0mplt\u001b[0m\u001b[0;34m.\u001b[0m\u001b[0mylabel\u001b[0m\u001b[0;34m(\u001b[0m\u001b[0;34m\"value_counts\"\u001b[0m\u001b[0;34m)\u001b[0m\u001b[0;34m\u001b[0m\u001b[0;34m\u001b[0m\u001b[0m\n\u001b[1;32m      4\u001b[0m \u001b[0mplt\u001b[0m\u001b[0;34m.\u001b[0m\u001b[0mtitle\u001b[0m\u001b[0;34m(\u001b[0m\u001b[0;34m\"Attrition barplot\"\u001b[0m\u001b[0;34m)\u001b[0m\u001b[0;34m\u001b[0m\u001b[0;34m\u001b[0m\u001b[0m\n\u001b[1;32m      5\u001b[0m \u001b[0mplt\u001b[0m\u001b[0;34m.\u001b[0m\u001b[0mshow\u001b[0m\u001b[0;34m(\u001b[0m\u001b[0;34m)\u001b[0m\u001b[0;34m\u001b[0m\u001b[0;34m\u001b[0m\u001b[0m\n",
            "\u001b[0;32m/usr/local/lib/python3.7/dist-packages/pandas/core/series.py\u001b[0m in \u001b[0;36m__getitem__\u001b[0;34m(self, key)\u001b[0m\n\u001b[1;32m    964\u001b[0m             \u001b[0;32mreturn\u001b[0m \u001b[0mself\u001b[0m\u001b[0;34m.\u001b[0m\u001b[0m_get_values\u001b[0m\u001b[0;34m(\u001b[0m\u001b[0mkey\u001b[0m\u001b[0;34m)\u001b[0m\u001b[0;34m\u001b[0m\u001b[0;34m\u001b[0m\u001b[0m\n\u001b[1;32m    965\u001b[0m \u001b[0;34m\u001b[0m\u001b[0m\n\u001b[0;32m--> 966\u001b[0;31m         \u001b[0;32mreturn\u001b[0m \u001b[0mself\u001b[0m\u001b[0;34m.\u001b[0m\u001b[0m_get_with\u001b[0m\u001b[0;34m(\u001b[0m\u001b[0mkey\u001b[0m\u001b[0;34m)\u001b[0m\u001b[0;34m\u001b[0m\u001b[0;34m\u001b[0m\u001b[0m\n\u001b[0m\u001b[1;32m    967\u001b[0m \u001b[0;34m\u001b[0m\u001b[0m\n\u001b[1;32m    968\u001b[0m     \u001b[0;32mdef\u001b[0m \u001b[0m_get_with\u001b[0m\u001b[0;34m(\u001b[0m\u001b[0mself\u001b[0m\u001b[0;34m,\u001b[0m \u001b[0mkey\u001b[0m\u001b[0;34m)\u001b[0m\u001b[0;34m:\u001b[0m\u001b[0;34m\u001b[0m\u001b[0;34m\u001b[0m\u001b[0m\n",
            "\u001b[0;32m/usr/local/lib/python3.7/dist-packages/pandas/core/series.py\u001b[0m in \u001b[0;36m_get_with\u001b[0;34m(self, key)\u001b[0m\n\u001b[1;32m    979\u001b[0m             )\n\u001b[1;32m    980\u001b[0m         \u001b[0;32melif\u001b[0m \u001b[0misinstance\u001b[0m\u001b[0;34m(\u001b[0m\u001b[0mkey\u001b[0m\u001b[0;34m,\u001b[0m \u001b[0mtuple\u001b[0m\u001b[0;34m)\u001b[0m\u001b[0;34m:\u001b[0m\u001b[0;34m\u001b[0m\u001b[0;34m\u001b[0m\u001b[0m\n\u001b[0;32m--> 981\u001b[0;31m             \u001b[0;32mreturn\u001b[0m \u001b[0mself\u001b[0m\u001b[0;34m.\u001b[0m\u001b[0m_get_values_tuple\u001b[0m\u001b[0;34m(\u001b[0m\u001b[0mkey\u001b[0m\u001b[0;34m)\u001b[0m\u001b[0;34m\u001b[0m\u001b[0;34m\u001b[0m\u001b[0m\n\u001b[0m\u001b[1;32m    982\u001b[0m \u001b[0;34m\u001b[0m\u001b[0m\n\u001b[1;32m    983\u001b[0m         \u001b[0;32melif\u001b[0m \u001b[0;32mnot\u001b[0m \u001b[0mis_list_like\u001b[0m\u001b[0;34m(\u001b[0m\u001b[0mkey\u001b[0m\u001b[0;34m)\u001b[0m\u001b[0;34m:\u001b[0m\u001b[0;34m\u001b[0m\u001b[0;34m\u001b[0m\u001b[0m\n",
            "\u001b[0;32m/usr/local/lib/python3.7/dist-packages/pandas/core/series.py\u001b[0m in \u001b[0;36m_get_values_tuple\u001b[0;34m(self, key)\u001b[0m\n\u001b[1;32m   1014\u001b[0m \u001b[0;34m\u001b[0m\u001b[0m\n\u001b[1;32m   1015\u001b[0m         \u001b[0;32mif\u001b[0m \u001b[0;32mnot\u001b[0m \u001b[0misinstance\u001b[0m\u001b[0;34m(\u001b[0m\u001b[0mself\u001b[0m\u001b[0;34m.\u001b[0m\u001b[0mindex\u001b[0m\u001b[0;34m,\u001b[0m \u001b[0mMultiIndex\u001b[0m\u001b[0;34m)\u001b[0m\u001b[0;34m:\u001b[0m\u001b[0;34m\u001b[0m\u001b[0;34m\u001b[0m\u001b[0m\n\u001b[0;32m-> 1016\u001b[0;31m             \u001b[0;32mraise\u001b[0m \u001b[0mKeyError\u001b[0m\u001b[0;34m(\u001b[0m\u001b[0;34m\"key of type tuple not found and not a MultiIndex\"\u001b[0m\u001b[0;34m)\u001b[0m\u001b[0;34m\u001b[0m\u001b[0;34m\u001b[0m\u001b[0m\n\u001b[0m\u001b[1;32m   1017\u001b[0m \u001b[0;34m\u001b[0m\u001b[0m\n\u001b[1;32m   1018\u001b[0m         \u001b[0;31m# If key is contained, would have returned by now\u001b[0m\u001b[0;34m\u001b[0m\u001b[0;34m\u001b[0m\u001b[0;34m\u001b[0m\u001b[0m\n",
            "\u001b[0;31mKeyError\u001b[0m: 'key of type tuple not found and not a MultiIndex'"
          ]
        }
      ]
    },
    {
      "cell_type": "code",
      "source": [
        "import seaborn as sns"
      ],
      "metadata": {
        "id": "wHfErNqWRAfS"
      },
      "execution_count": null,
      "outputs": []
    },
    {
      "cell_type": "code",
      "source": [
        "sns.barplot(Y_train.value_counts(),data=data)\n",
        "plt.show()"
      ],
      "metadata": {
        "colab": {
          "base_uri": "https://localhost:8080/",
          "height": 334
        },
        "id": "hriCWRoDQsyg",
        "outputId": "4923e182-b855-4bc0-df28-61e1003502bd"
      },
      "execution_count": null,
      "outputs": [
        {
          "output_type": "stream",
          "name": "stderr",
          "text": [
            "/usr/local/lib/python3.7/dist-packages/seaborn/_decorators.py:43: FutureWarning: Pass the following variable as a keyword arg: x. From version 0.12, the only valid positional argument will be `data`, and passing other arguments without an explicit keyword will result in an error or misinterpretation.\n",
            "  FutureWarning\n"
          ]
        },
        {
          "output_type": "display_data",
          "data": {
            "text/plain": [
              "<Figure size 432x288 with 1 Axes>"
            ],
            "image/png": "[encoded data removed]"
          },
          "metadata": {
            "needs_background": "light"
          }
        }
      ]
    },
    {
      "cell_type": "code",
      "source": [
        "#data.select_dtypes(include=object)"
      ],
      "metadata": {
        "id": "Fz3bU9PS4oD-"
      },
      "execution_count": null,
      "outputs": []
    },
    {
      "cell_type": "code",
      "source": [
        "X_train,X_test,Y_train,Y_test=train_test_split(data.loc[:,data.columns!='Attrition'],data.loc[:,'Attrition'],test_size=0.1,random_state=123)"
      ],
      "metadata": {
        "id": "1OyF9LZj6vJ7"
      },
      "execution_count": null,
      "outputs": []
    },
    {
      "cell_type": "code",
      "source": [
        "catcols=data.select_dtypes(include=object).columns\n",
        "catcols=catcols.drop(['Attrition'])\n",
        "#catcols.extend(['StockOptionLevel','Job Level'])"
      ],
      "metadata": {
        "id": "2T9ZwnJb4x8z"
      },
      "execution_count": null,
      "outputs": []
    },
    {
      "cell_type": "code",
      "source": [],
      "metadata": {
        "id": "IsUjxmcOkIFq"
      },
      "execution_count": null,
      "outputs": []
    },
    {
      "cell_type": "code",
      "source": [
        "X_train.drop(['EmployeeNumber','StandardHours'],axis=1,inplace=True)\n",
        "X_test.drop(['EmployeeNumber','StandardHours'],axis=1,inplace=True)"
      ],
      "metadata": {
        "id": "FJNGIVHy8yEb"
      },
      "execution_count": null,
      "outputs": []
    },
    {
      "cell_type": "code",
      "source": [
        "X_train[catcols]=X_train[catcols].astype('category')\n",
        "X_test[catcols]=X_test[catcols].astype('category')\n",
        "X_train.isna().sum()"
      ],
      "metadata": {
        "colab": {
          "base_uri": "https://localhost:8080/"
        },
        "id": "RejuN4P__YQN",
        "outputId": "70bc9d1e-e14f-47db-c5c1-d58fb1011b26"
      },
      "execution_count": null,
      "outputs": [
        {
          "output_type": "execute_result",
          "data": {
            "text/plain": [
              "Age                         0\n",
              "BusinessTravel              0\n",
              "Department                  0\n",
              "DistanceFromHome            0\n",
              "Education                   0\n",
              "EducationField              0\n",
              "EnvironmentSatisfaction     0\n",
              "Gender                      0\n",
              "JobInvolvement              0\n",
              "JobLevel                    0\n",
              "JobRole                     0\n",
              "JobSatisfaction             0\n",
              "MaritalStatus               0\n",
              "MonthlyIncome               0\n",
              "NumCompaniesWorked          0\n",
              "Over18                      0\n",
              "OverTime                    0\n",
              "PercentSalaryHike           0\n",
              "PerformanceRating           0\n",
              "RelationshipSatisfaction    0\n",
              "StockOptionLevel            0\n",
              "TotalWorkingYears           0\n",
              "TrainingTimesLastYear       0\n",
              "WorkLifeBalance             0\n",
              "YearsAtCompany              0\n",
              "YearsInCurrentRole          0\n",
              "YearsSinceLastPromotion     0\n",
              "YearsWithCurrManager        0\n",
              "dtype: int64"
            ]
          },
          "metadata": {},
          "execution_count": 19
        }
      ]
    },
    {
      "cell_type": "code",
      "source": [
        "X_train_num=X_train.drop(catcols,axis=1)\n",
        "X_train_cat=X_train[catcols]\n",
        "X_train_cat.isna().sum()"
      ],
      "metadata": {
        "colab": {
          "base_uri": "https://localhost:8080/"
        },
        "id": "pgY5jjh77PYJ",
        "outputId": "9d03a6bc-1a5c-4435-db85-322287f7c513"
      },
      "execution_count": null,
      "outputs": [
        {
          "output_type": "execute_result",
          "data": {
            "text/plain": [
              "BusinessTravel              0\n",
              "Department                  0\n",
              "Education                   0\n",
              "EducationField              0\n",
              "EnvironmentSatisfaction     0\n",
              "Gender                      0\n",
              "JobInvolvement              0\n",
              "JobRole                     0\n",
              "JobSatisfaction             0\n",
              "MaritalStatus               0\n",
              "Over18                      0\n",
              "OverTime                    0\n",
              "PerformanceRating           0\n",
              "RelationshipSatisfaction    0\n",
              "WorkLifeBalance             0\n",
              "dtype: int64"
            ]
          },
          "metadata": {},
          "execution_count": 20
        }
      ]
    },
    {
      "cell_type": "code",
      "source": [
        "X_test_num=X_test.drop(catcols,axis=1)\n",
        "X_test_cat=X_test[catcols]"
      ],
      "metadata": {
        "id": "xv89DLbD-2ds"
      },
      "execution_count": null,
      "outputs": []
    },
    {
      "cell_type": "code",
      "source": [
        "imp_num=SimpleImputer(strategy='mean')\n",
        "imp_cat=SimpleImputer(strategy='most_frequent')"
      ],
      "metadata": {
        "id": "aCsStdKVle8i"
      },
      "execution_count": null,
      "outputs": []
    },
    {
      "cell_type": "code",
      "source": [
        "X_train_num=pd.DataFrame(imp_num.fit_transform(X_train_num),columns=X_train_num.columns)\n",
        "X_test_num=pd.DataFrame(imp_num.transform(X_test_num),columns=X_test_num.columns)\n",
        "X_train_cat.isna().sum()"
      ],
      "metadata": {
        "colab": {
          "base_uri": "https://localhost:8080/"
        },
        "id": "58P-NqrD6j2K",
        "outputId": "930ed4cd-3334-4f25-ddb4-f44133d545ea"
      },
      "execution_count": null,
      "outputs": [
        {
          "output_type": "execute_result",
          "data": {
            "text/plain": [
              "BusinessTravel              0\n",
              "Department                  0\n",
              "Education                   0\n",
              "EducationField              0\n",
              "EnvironmentSatisfaction     0\n",
              "Gender                      0\n",
              "JobInvolvement              0\n",
              "JobRole                     0\n",
              "JobSatisfaction             0\n",
              "MaritalStatus               0\n",
              "Over18                      0\n",
              "OverTime                    0\n",
              "PerformanceRating           0\n",
              "RelationshipSatisfaction    0\n",
              "WorkLifeBalance             0\n",
              "dtype: int64"
            ]
          },
          "metadata": {},
          "execution_count": 23
        }
      ]
    },
    {
      "cell_type": "code",
      "source": [
        "X_train_cat=pd.DataFrame(imp_cat.fit_transform(X_train_cat),columns=X_train_cat.columns)\n",
        "X_test_cat=pd.DataFrame(imp_cat.transform(X_test_cat),columns=X_test_cat.columns)"
      ],
      "metadata": {
        "id": "iw_DlLvDmGNY"
      },
      "execution_count": null,
      "outputs": []
    },
    {
      "cell_type": "code",
      "source": [
        "st=StandardScaler()\n",
        "X_train_num=pd.DataFrame(st.fit_transform(X_train_num),columns=X_train_num.columns)\n",
        "X_test_num=pd.DataFrame(st.transform(X_test_num),columns=X_test_num.columns)"
      ],
      "metadata": {
        "id": "Cv-aLTWumbOC"
      },
      "execution_count": null,
      "outputs": []
    },
    {
      "cell_type": "code",
      "source": [
        "ohe=OneHotEncoder(handle_unknown='ignore')\n",
        "X_train_cat=pd.DataFrame(ohe.fit_transform(X_train_cat).todense(),columns=ohe.get_feature_names_out())\n",
        "X_test_cat=pd.DataFrame(ohe.transform(X_test_cat).todense(),columns=ohe.get_feature_names_out())\n",
        "X_train_cat.isna().sum()"
      ],
      "metadata": {
        "colab": {
          "base_uri": "https://localhost:8080/"
        },
        "id": "XmXUCWhEm2Rs",
        "outputId": "a2f7c400-080a-4559-9e06-1fc2a47701dd"
      },
      "execution_count": null,
      "outputs": [
        {
          "output_type": "execute_result",
          "data": {
            "text/plain": [
              "BusinessTravel_Non-Travel             0\n",
              "BusinessTravel_Travel_Frequently      0\n",
              "BusinessTravel_Travel_Rarely          0\n",
              "Department_Human Resources            0\n",
              "Department_Research & Development     0\n",
              "Department_Sales                      0\n",
              "Education_Bachelor                    0\n",
              "Education_Below_college               0\n",
              "Education_College                     0\n",
              "Education_Doctor                      0\n",
              "Education_Master                      0\n",
              "EducationField_Human Resources        0\n",
              "EducationField_Life Sciences          0\n",
              "EducationField_Marketing              0\n",
              "EducationField_Medical                0\n",
              "EducationField_Other                  0\n",
              "EducationField_Technical Degree       0\n",
              "EnvironmentSatisfaction_High          0\n",
              "EnvironmentSatisfaction_Low           0\n",
              "EnvironmentSatisfaction_Medium        0\n",
              "EnvironmentSatisfaction_Very high     0\n",
              "Gender_Female                         0\n",
              "Gender_Male                           0\n",
              "JobInvolvement_High                   0\n",
              "JobInvolvement_Low                    0\n",
              "JobInvolvement_Medium                 0\n",
              "JobInvolvement_Very high              0\n",
              "JobRole_Healthcare Representative     0\n",
              "JobRole_Human Resources               0\n",
              "JobRole_Laboratory Technician         0\n",
              "JobRole_Manager                       0\n",
              "JobRole_Manufacturing Director        0\n",
              "JobRole_Research Director             0\n",
              "JobRole_Research Scientist            0\n",
              "JobRole_Sales Executive               0\n",
              "JobRole_Sales Representative          0\n",
              "JobSatisfaction_High                  0\n",
              "JobSatisfaction_Low                   0\n",
              "JobSatisfaction_Medium                0\n",
              "JobSatisfaction_Very High             0\n",
              "MaritalStatus_Divorced                0\n",
              "MaritalStatus_Married                 0\n",
              "MaritalStatus_Single                  0\n",
              "Over18_Y                              0\n",
              "OverTime_No                           0\n",
              "OverTime_Yes                          0\n",
              "PerformanceRating_Excellent           0\n",
              "PerformanceRating_Outstanding         0\n",
              "RelationshipSatisfaction_High         0\n",
              "RelationshipSatisfaction_Low          0\n",
              "RelationshipSatisfaction_Medium       0\n",
              "RelationshipSatisfaction_Very High    0\n",
              "WorkLifeBalance_Bad                   0\n",
              "WorkLifeBalance_Best                  0\n",
              "WorkLifeBalance_Better                0\n",
              "WorkLifeBalance_Good                  0\n",
              "dtype: int64"
            ]
          },
          "metadata": {},
          "execution_count": 26
        }
      ]
    },
    {
      "cell_type": "code",
      "source": [
        "#X_train_cat.reset_index(drop=False, inplace=True)\n",
        "#X_train_num.reset_index(drop=False, inplace=True)\n",
        "train=pd.concat([X_train_num,X_train_cat],axis=1)\n",
        "test=pd.concat([X_test_num,X_test_cat],axis=1)\n",
        "#train.isna().sum()\n"
      ],
      "metadata": {
        "id": "PpEHHXT5oF7M"
      },
      "execution_count": null,
      "outputs": []
    },
    {
      "cell_type": "code",
      "source": [
        "train.shape"
      ],
      "metadata": {
        "colab": {
          "base_uri": "https://localhost:8080/"
        },
        "id": "d5VaqryXodJO",
        "outputId": "6f07afb7-dff9-4312-a0c9-2de88b20b5de"
      },
      "execution_count": null,
      "outputs": [
        {
          "output_type": "execute_result",
          "data": {
            "text/plain": [
              "(1323, 69)"
            ]
          },
          "metadata": {},
          "execution_count": 28
        }
      ]
    },
    {
      "cell_type": "code",
      "source": [
        "test.shape"
      ],
      "metadata": {
        "colab": {
          "base_uri": "https://localhost:8080/"
        },
        "id": "mi6w5nibohVY",
        "outputId": "b2ab6354-13e3-43e3-8042-ab5005d7f034"
      },
      "execution_count": null,
      "outputs": [
        {
          "output_type": "execute_result",
          "data": {
            "text/plain": [
              "(147, 69)"
            ]
          },
          "metadata": {},
          "execution_count": 29
        }
      ]
    },
    {
      "cell_type": "code",
      "source": [
        "train.isna().sum()"
      ],
      "metadata": {
        "colab": {
          "base_uri": "https://localhost:8080/"
        },
        "id": "LamffJqXqlIq",
        "outputId": "5630828a-508b-4d2e-9005-018ae47af069"
      },
      "execution_count": null,
      "outputs": [
        {
          "output_type": "execute_result",
          "data": {
            "text/plain": [
              "Age                                   0\n",
              "DistanceFromHome                      0\n",
              "JobLevel                              0\n",
              "MonthlyIncome                         0\n",
              "NumCompaniesWorked                    0\n",
              "                                     ..\n",
              "RelationshipSatisfaction_Very High    0\n",
              "WorkLifeBalance_Bad                   0\n",
              "WorkLifeBalance_Best                  0\n",
              "WorkLifeBalance_Better                0\n",
              "WorkLifeBalance_Good                  0\n",
              "Length: 69, dtype: int64"
            ]
          },
          "metadata": {},
          "execution_count": 30
        }
      ]
    },
    {
      "cell_type": "code",
      "source": [
        "Y_train=Y_train.astype('category')\n",
        "Y_test=Y_test.astype('category')"
      ],
      "metadata": {
        "id": "JPA8MGcIo5iD"
      },
      "execution_count": null,
      "outputs": []
    },
    {
      "cell_type": "code",
      "source": [
        "Y_train.isna().sum()"
      ],
      "metadata": {
        "colab": {
          "base_uri": "https://localhost:8080/"
        },
        "id": "-O-8IYFIsjmy",
        "outputId": "280327d4-fd72-4dc0-fc13-1ae639811cd8"
      },
      "execution_count": null,
      "outputs": [
        {
          "output_type": "execute_result",
          "data": {
            "text/plain": [
              "0"
            ]
          },
          "metadata": {},
          "execution_count": 32
        }
      ]
    },
    {
      "cell_type": "code",
      "source": [
        "mod=SVC(kernel='rbf',C=2)\n",
        "mod.fit(train,Y_train)\n"
      ],
      "metadata": {
        "colab": {
          "base_uri": "https://localhost:8080/"
        },
        "id": "xbvDIMSnn0d6",
        "outputId": "1e6bc410-6aa3-4e4b-ba4e-82e99a13ef0b"
      },
      "execution_count": null,
      "outputs": [
        {
          "output_type": "execute_result",
          "data": {
            "text/plain": [
              "SVC(C=2)"
            ]
          },
          "metadata": {},
          "execution_count": 33
        }
      ]
    },
    {
      "cell_type": "code",
      "source": [
        "model=SVC()\n",
        "param_grid={'kernel':['rbf','poly'],'C':[1,0.3,4],'gamma':[1,2,3]}\n",
        "search=GridSearchCV(model,param_grid)\n",
        "search.fit(train,Y_train)\n"
      ],
      "metadata": {
        "colab": {
          "base_uri": "https://localhost:8080/"
        },
        "id": "_xCCj040u5vj",
        "outputId": "e9007a4c-7959-4f0b-a0d9-964716302828"
      },
      "execution_count": null,
      "outputs": [
        {
          "output_type": "execute_result",
          "data": {
            "text/plain": [
              "GridSearchCV(estimator=SVC(),\n",
              "             param_grid={'C': [1, 0.3, 4], 'gamma': [1, 2, 3],\n",
              "                         'kernel': ['rbf', 'poly']})"
            ]
          },
          "metadata": {},
          "execution_count": 34
        }
      ]
    },
    {
      "cell_type": "code",
      "source": [
        "print(search.best_params_)"
      ],
      "metadata": {
        "colab": {
          "base_uri": "https://localhost:8080/"
        },
        "id": "hDeB8RvZ2czo",
        "outputId": "12d36f36-88fb-4ee4-add2-e505bb69e9f8"
      },
      "execution_count": null,
      "outputs": [
        {
          "output_type": "stream",
          "name": "stdout",
          "text": [
            "{'C': 1, 'gamma': 1, 'kernel': 'poly'}\n"
          ]
        }
      ]
    },
    {
      "cell_type": "code",
      "source": [
        "preds_train=mod.predict(train)"
      ],
      "metadata": {
        "id": "HlhPYikZ2fod"
      },
      "execution_count": null,
      "outputs": []
    },
    {
      "cell_type": "code",
      "source": [
        "preds_test=mod.predict(test)"
      ],
      "metadata": {
        "id": "r7G39CgZ22CX"
      },
      "execution_count": null,
      "outputs": []
    },
    {
      "cell_type": "code",
      "source": [
        "print(confusion_matrix(Y_train,preds_train))\n",
        "print(confusion_matrix(Y_test,preds_test))"
      ],
      "metadata": {
        "colab": {
          "base_uri": "https://localhost:8080/"
        },
        "id": "pgxMEZIR26Zf",
        "outputId": "cbc294c1-362b-4f05-937c-4e6d8046eeb9"
      },
      "execution_count": null,
      "outputs": [
        {
          "output_type": "stream",
          "name": "stdout",
          "text": [
            "[[1101    2]\n",
            " [  59  161]]\n",
            "[[129   1]\n",
            " [  6  11]]\n"
          ]
        }
      ]
    },
    {
      "cell_type": "code",
      "source": [
        "print(classification_report(Y_train,preds_train))\n",
        "print(classification_report(Y_test,preds_test))"
      ],
      "metadata": {
        "colab": {
          "base_uri": "https://localhost:8080/"
        },
        "id": "ozYm-obO3sPs",
        "outputId": "253ce0d1-9f41-4595-f33e-7b1a5e3c5f98"
      },
      "execution_count": null,
      "outputs": [
        {
          "output_type": "stream",
          "name": "stdout",
          "text": [
            "              precision    recall  f1-score   support\n",
            "\n",
            "          No       0.95      1.00      0.97      1103\n",
            "         Yes       0.99      0.73      0.84       220\n",
            "\n",
            "    accuracy                           0.95      1323\n",
            "   macro avg       0.97      0.87      0.91      1323\n",
            "weighted avg       0.96      0.95      0.95      1323\n",
            "\n",
            "              precision    recall  f1-score   support\n",
            "\n",
            "          No       0.96      0.99      0.97       130\n",
            "         Yes       0.92      0.65      0.76        17\n",
            "\n",
            "    accuracy                           0.95       147\n",
            "   macro avg       0.94      0.82      0.87       147\n",
            "weighted avg       0.95      0.95      0.95       147\n",
            "\n"
          ]
        }
      ]
    },
    {
      "cell_type": "code",
      "source": [
        "######naive bayes"
      ],
      "metadata": {
        "id": "WCHzE04p4DZw"
      },
      "execution_count": null,
      "outputs": []
    },
    {
      "cell_type": "code",
      "source": [
        "nb=GaussianNB()\n",
        "nb.fit(train,Y_train)"
      ],
      "metadata": {
        "colab": {
          "base_uri": "https://localhost:8080/"
        },
        "id": "wC2xAc764GdK",
        "outputId": "5ca51228-cdbc-4d6b-c379-6870677d8b76"
      },
      "execution_count": null,
      "outputs": [
        {
          "output_type": "execute_result",
          "data": {
            "text/plain": [
              "GaussianNB()"
            ]
          },
          "metadata": {},
          "execution_count": 40
        }
      ]
    },
    {
      "cell_type": "code",
      "source": [
        "pred_train=nb.predict(train)\n",
        "pred_test=nb.predict(test)"
      ],
      "metadata": {
        "id": "WU1Wwryp5Si2"
      },
      "execution_count": null,
      "outputs": []
    },
    {
      "cell_type": "code",
      "source": [
        "print(confusion_matrix(Y_train,pred_train))\n",
        "print(confusion_matrix(Y_test,pred_test))"
      ],
      "metadata": {
        "colab": {
          "base_uri": "https://localhost:8080/"
        },
        "id": "nCtNk2uO5SL9",
        "outputId": "0f20c9e4-fdbe-45ed-f775-839c48c91597"
      },
      "execution_count": null,
      "outputs": [
        {
          "output_type": "stream",
          "name": "stdout",
          "text": [
            "[[779 324]\n",
            " [ 48 172]]\n",
            "[[92 38]\n",
            " [ 4 13]]\n"
          ]
        }
      ]
    },
    {
      "cell_type": "code",
      "source": [
        "print(classification_report(Y_train,pred_train))\n",
        "print(classification_report(Y_train,pred_train))"
      ],
      "metadata": {
        "colab": {
          "base_uri": "https://localhost:8080/"
        },
        "id": "W7EruLf55R6c",
        "outputId": "ef75c31e-372b-494c-991c-8ec0474e0cb1"
      },
      "execution_count": null,
      "outputs": [
        {
          "output_type": "stream",
          "name": "stdout",
          "text": [
            "              precision    recall  f1-score   support\n",
            "\n",
            "          No       0.94      0.71      0.81      1103\n",
            "         Yes       0.35      0.78      0.48       220\n",
            "\n",
            "    accuracy                           0.72      1323\n",
            "   macro avg       0.64      0.74      0.64      1323\n",
            "weighted avg       0.84      0.72      0.75      1323\n",
            "\n",
            "              precision    recall  f1-score   support\n",
            "\n",
            "          No       0.94      0.71      0.81      1103\n",
            "         Yes       0.35      0.78      0.48       220\n",
            "\n",
            "    accuracy                           0.72      1323\n",
            "   macro avg       0.64      0.74      0.64      1323\n",
            "weighted avg       0.84      0.72      0.75      1323\n",
            "\n"
          ]
        }
      ]
    },
    {
      "cell_type": "code",
      "source": [
        "###### knn"
      ],
      "metadata": {
        "id": "x6_wZppW5pJZ"
      },
      "execution_count": null,
      "outputs": []
    },
    {
      "cell_type": "code",
      "source": [
        "knn=KNeighborsClassifier()\n",
        "knn.fit(train,Y_train)"
      ],
      "metadata": {
        "colab": {
          "base_uri": "https://localhost:8080/"
        },
        "id": "oWnmtyI352hx",
        "outputId": "f26e14f0-4cc0-4ba6-eef1-7fdd449e4bee"
      },
      "execution_count": null,
      "outputs": [
        {
          "output_type": "execute_result",
          "data": {
            "text/plain": [
              "KNeighborsClassifier()"
            ]
          },
          "metadata": {},
          "execution_count": 45
        }
      ]
    },
    {
      "cell_type": "code",
      "source": [
        "train_preds=knn.predict(train)\n",
        "test_preds=knn.predict(test)"
      ],
      "metadata": {
        "id": "gN5Op_ta52aE"
      },
      "execution_count": null,
      "outputs": []
    },
    {
      "cell_type": "code",
      "source": [
        "print(confusion_matrix(Y_train,train_preds))\n",
        "print(confusion_matrix(Y_test,test_preds))"
      ],
      "metadata": {
        "colab": {
          "base_uri": "https://localhost:8080/"
        },
        "id": "XK_lRsBc6JOK",
        "outputId": "c6dab2f0-0c44-41be-8740-d4386f0f17b7"
      },
      "execution_count": null,
      "outputs": [
        {
          "output_type": "stream",
          "name": "stdout",
          "text": [
            "[[1094    9]\n",
            " [ 171   49]]\n",
            "[[125   5]\n",
            " [ 14   3]]\n"
          ]
        }
      ]
    },
    {
      "cell_type": "code",
      "source": [
        "print(classification_report(Y_train,train_preds))\n",
        "print(classification_report(Y_test,test_preds))"
      ],
      "metadata": {
        "colab": {
          "base_uri": "https://localhost:8080/"
        },
        "id": "JdDs0dym6YRt",
        "outputId": "6d10220a-9e82-46a5-e450-8c688bc11087"
      },
      "execution_count": null,
      "outputs": [
        {
          "output_type": "stream",
          "name": "stdout",
          "text": [
            "              precision    recall  f1-score   support\n",
            "\n",
            "          No       0.86      0.99      0.92      1103\n",
            "         Yes       0.84      0.22      0.35       220\n",
            "\n",
            "    accuracy                           0.86      1323\n",
            "   macro avg       0.85      0.61      0.64      1323\n",
            "weighted avg       0.86      0.86      0.83      1323\n",
            "\n",
            "              precision    recall  f1-score   support\n",
            "\n",
            "          No       0.90      0.96      0.93       130\n",
            "         Yes       0.38      0.18      0.24        17\n",
            "\n",
            "    accuracy                           0.87       147\n",
            "   macro avg       0.64      0.57      0.58       147\n",
            "weighted avg       0.84      0.87      0.85       147\n",
            "\n"
          ]
        }
      ]
    },
    {
      "cell_type": "code",
      "source": [
        "#### logistic regression"
      ],
      "metadata": {
        "id": "IdKL0aCU6YOZ"
      },
      "execution_count": null,
      "outputs": []
    },
    {
      "cell_type": "code",
      "source": [
        "from sklearn import linear_model"
      ],
      "metadata": {
        "id": "kyNwyloj8Kxj"
      },
      "execution_count": null,
      "outputs": []
    },
    {
      "cell_type": "code",
      "source": [
        "logr=linear_model.LogisticRegression()\n",
        "logr.fit(train,Y_train)   "
      ],
      "metadata": {
        "colab": {
          "base_uri": "https://localhost:8080/"
        },
        "id": "JZzp1U2h6YLZ",
        "outputId": "f0d96080-08d6-42a7-bc7c-e5a85efc7b44"
      },
      "execution_count": null,
      "outputs": [
        {
          "output_type": "stream",
          "name": "stderr",
          "text": [
            "/usr/local/lib/python3.7/dist-packages/sklearn/linear_model/_logistic.py:818: ConvergenceWarning: lbfgs failed to converge (status=1):\n",
            "STOP: TOTAL NO. of ITERATIONS REACHED LIMIT.\n",
            "\n",
            "Increase the number of iterations (max_iter) or scale the data as shown in:\n",
            "    https://scikit-learn.org/stable/modules/preprocessing.html\n",
            "Please also refer to the documentation for alternative solver options:\n",
            "    https://scikit-learn.org/stable/modules/linear_model.html#logistic-regression\n",
            "  extra_warning_msg=_LOGISTIC_SOLVER_CONVERGENCE_MSG,\n"
          ]
        },
        {
          "output_type": "execute_result",
          "data": {
            "text/plain": [
              "LogisticRegression()"
            ]
          },
          "metadata": {},
          "execution_count": 53
        }
      ]
    },
    {
      "cell_type": "code",
      "source": [
        "train_pred=logr.predict(train)\n",
        "test_pred=logr.predict(test)"
      ],
      "metadata": {
        "id": "QOMj_tVK66za"
      },
      "execution_count": null,
      "outputs": []
    },
    {
      "cell_type": "code",
      "source": [
        "print(confusion_matrix(Y_train,train_pred))\n",
        "print(confusion_matrix(Y_test,test_pred))"
      ],
      "metadata": {
        "colab": {
          "base_uri": "https://localhost:8080/"
        },
        "id": "KUFzlVAZ9P5Z",
        "outputId": "66d239cb-ee61-4cc4-f4c6-b66c847fc857"
      },
      "execution_count": null,
      "outputs": [
        {
          "output_type": "stream",
          "name": "stdout",
          "text": [
            "[[1073   30]\n",
            " [ 115  105]]\n",
            "[[128   2]\n",
            " [  8   9]]\n"
          ]
        }
      ]
    },
    {
      "cell_type": "code",
      "source": [
        "print(classification_report(Y_train,train_pred))\n",
        "print(classification_report(Y_test,test_pred))"
      ],
      "metadata": {
        "colab": {
          "base_uri": "https://localhost:8080/"
        },
        "id": "t8lOrujW9P1p",
        "outputId": "cb1ea826-ad25-43ff-84f7-7badbf9a5cea"
      },
      "execution_count": null,
      "outputs": [
        {
          "output_type": "stream",
          "name": "stdout",
          "text": [
            "              precision    recall  f1-score   support\n",
            "\n",
            "          No       0.90      0.97      0.94      1103\n",
            "         Yes       0.78      0.48      0.59       220\n",
            "\n",
            "    accuracy                           0.89      1323\n",
            "   macro avg       0.84      0.73      0.76      1323\n",
            "weighted avg       0.88      0.89      0.88      1323\n",
            "\n",
            "              precision    recall  f1-score   support\n",
            "\n",
            "          No       0.94      0.98      0.96       130\n",
            "         Yes       0.82      0.53      0.64        17\n",
            "\n",
            "    accuracy                           0.93       147\n",
            "   macro avg       0.88      0.76      0.80       147\n",
            "weighted avg       0.93      0.93      0.93       147\n",
            "\n"
          ]
        }
      ]
    },
    {
      "cell_type": "code",
      "source": [
        "#### decision trees"
      ],
      "metadata": {
        "id": "gr5QJlai9rft"
      },
      "execution_count": null,
      "outputs": []
    },
    {
      "cell_type": "code",
      "source": [
        "dt=DecisionTreeClassifier()\n",
        "dt.fit(train,Y_train)"
      ],
      "metadata": {
        "colab": {
          "base_uri": "https://localhost:8080/"
        },
        "id": "Fo6nuIHp9rdO",
        "outputId": "f827cf79-3f1b-487e-96f8-fd28392d78e2"
      },
      "execution_count": null,
      "outputs": [
        {
          "output_type": "execute_result",
          "data": {
            "text/plain": [
              "DecisionTreeClassifier()"
            ]
          },
          "metadata": {},
          "execution_count": 57
        }
      ]
    },
    {
      "cell_type": "code",
      "source": [
        "dt_train_pred=dt.predict(train)\n",
        "dt_test_pred=dt.predict(test)"
      ],
      "metadata": {
        "id": "sV6tw-hJ9rZm"
      },
      "execution_count": null,
      "outputs": []
    },
    {
      "cell_type": "code",
      "source": [
        "print(confusion_matrix(Y_train,dt_train_pred))\n",
        "print(confusion_matrix(Y_test,dt_test_pred))"
      ],
      "metadata": {
        "colab": {
          "base_uri": "https://localhost:8080/"
        },
        "id": "nkx54BrL9rVu",
        "outputId": "1eabc59b-845f-4106-a036-e6d0f1d44547"
      },
      "execution_count": null,
      "outputs": [
        {
          "output_type": "stream",
          "name": "stdout",
          "text": [
            "[[1103    0]\n",
            " [   0  220]]\n",
            "[[117  13]\n",
            " [ 11   6]]\n"
          ]
        }
      ]
    },
    {
      "cell_type": "code",
      "source": [
        "print(classification_report(Y_train,dt_train_pred))\n",
        "print(classification_report(Y_test,dt_test_pred))"
      ],
      "metadata": {
        "colab": {
          "base_uri": "https://localhost:8080/"
        },
        "id": "eGmcP1Xg9rRW",
        "outputId": "e5e24c57-d1a0-4acf-d9af-6ee7575be375"
      },
      "execution_count": null,
      "outputs": [
        {
          "output_type": "stream",
          "name": "stdout",
          "text": [
            "              precision    recall  f1-score   support\n",
            "\n",
            "          No       1.00      1.00      1.00      1103\n",
            "         Yes       1.00      1.00      1.00       220\n",
            "\n",
            "    accuracy                           1.00      1323\n",
            "   macro avg       1.00      1.00      1.00      1323\n",
            "weighted avg       1.00      1.00      1.00      1323\n",
            "\n",
            "              precision    recall  f1-score   support\n",
            "\n",
            "          No       0.91      0.90      0.91       130\n",
            "         Yes       0.32      0.35      0.33        17\n",
            "\n",
            "    accuracy                           0.84       147\n",
            "   macro avg       0.61      0.63      0.62       147\n",
            "weighted avg       0.84      0.84      0.84       147\n",
            "\n"
          ]
        }
      ]
    },
    {
      "cell_type": "code",
      "source": [
        "##### stacking"
      ],
      "metadata": {
        "id": "uhYJcxRi9rIc"
      },
      "execution_count": null,
      "outputs": []
    },
    {
      "cell_type": "code",
      "source": [
        "train_result=pd.DataFrame({'SVC':preds_train,'nb':pred_train,'knn':train_preds,'logr':train_pred,'dt':dt_train_pred})"
      ],
      "metadata": {
        "id": "32BsQgqy-tUM"
      },
      "execution_count": null,
      "outputs": []
    },
    {
      "cell_type": "code",
      "source": [
        "test_result=pd.DataFrame({'SVC':preds_test,'nb':pred_test,'knn':test_preds,'logr':test_pred,'dt':dt_test_pred})"
      ],
      "metadata": {
        "id": "DNyNZVZi-tQ9"
      },
      "execution_count": null,
      "outputs": []
    },
    {
      "cell_type": "code",
      "source": [
        "train_result.head()\n",
        "test_result.head()"
      ],
      "metadata": {
        "colab": {
          "base_uri": "https://localhost:8080/",
          "height": 206
        },
        "id": "ijZ6sCa--tOJ",
        "outputId": "2a6d7e2c-abe1-4569-e1ba-c91a1962928d"
      },
      "execution_count": null,
      "outputs": [
        {
          "output_type": "execute_result",
          "data": {
            "text/plain": [
              "   SVC   nb knn logr   dt\n",
              "0  Yes  Yes  No  Yes  Yes\n",
              "1   No   No  No   No   No\n",
              "2   No  Yes  No   No  Yes\n",
              "3   No   No  No   No   No\n",
              "4   No   No  No   No   No"
            ],
            "text/html": [
              "\n",
              "  <div id=\"df-8a9d1f2e-04f7-44df-9b10-a6570f759512\">\n",
              "    <div class=\"colab-df-container\">\n",
              "      <div>\n",
              "<style scoped>\n",
              "    .dataframe tbody tr th:only-of-type {\n",
              "        vertical-align: middle;\n",
              "    }\n",
              "\n",
              "    .dataframe tbody tr th {\n",
              "        vertical-align: top;\n",
              "    }\n",
              "\n",
              "    .dataframe thead th {\n",
              "        text-align: right;\n",
              "    }\n",
              "</style>\n",
              "<table border=\"1\" class=\"dataframe\">\n",
              "  <thead>\n",
              "    <tr style=\"text-align: right;\">\n",
              "      <th></th>\n",
              "      <th>SVC</th>\n",
              "      <th>nb</th>\n",
              "      <th>knn</th>\n",
              "      <th>logr</th>\n",
              "      <th>dt</th>\n",
              "    </tr>\n",
              "  </thead>\n",
              "  <tbody>\n",
              "    <tr>\n",
              "      <th>0</th>\n",
              "      <td>Yes</td>\n",
              "      <td>Yes</td>\n",
              "      <td>No</td>\n",
              "      <td>Yes</td>\n",
              "      <td>Yes</td>\n",
              "    </tr>\n",
              "    <tr>\n",
              "      <th>1</th>\n",
              "      <td>No</td>\n",
              "      <td>No</td>\n",
              "      <td>No</td>\n",
              "      <td>No</td>\n",
              "      <td>No</td>\n",
              "    </tr>\n",
              "    <tr>\n",
              "      <th>2</th>\n",
              "      <td>No</td>\n",
              "      <td>Yes</td>\n",
              "      <td>No</td>\n",
              "      <td>No</td>\n",
              "      <td>Yes</td>\n",
              "    </tr>\n",
              "    <tr>\n",
              "      <th>3</th>\n",
              "      <td>No</td>\n",
              "      <td>No</td>\n",
              "      <td>No</td>\n",
              "      <td>No</td>\n",
              "      <td>No</td>\n",
              "    </tr>\n",
              "    <tr>\n",
              "      <th>4</th>\n",
              "      <td>No</td>\n",
              "      <td>No</td>\n",
              "      <td>No</td>\n",
              "      <td>No</td>\n",
              "      <td>No</td>\n",
              "    </tr>\n",
              "  </tbody>\n",
              "</table>\n",
              "</div>\n",
              "      <button class=\"colab-df-convert\" onclick=\"convertToInteractive('df-8a9d1f2e-04f7-44df-9b10-a6570f759512')\"\n",
              "              title=\"Convert this dataframe to an interactive table.\"\n",
              "              style=\"display:none;\">\n",
              "        \n",
              "  <svg xmlns=\"http://www.w3.org/2000/svg\" height=\"24px\"viewBox=\"0 0 24 24\"\n",
              "       width=\"24px\">\n",
              "    <path d=\"M0 0h24v24H0V0z\" fill=\"none\"/>\n",
              "    <path d=\"M18.56 5.44l.94 2.06.94-2.06 2.06-.94-2.06-.94-.94-2.06-.94 2.06-2.06.94zm-11 1L8.5 8.5l.94-2.06 2.06-.94-2.06-.94L8.5 2.5l-.94 2.06-2.06.94zm10 10l.94 2.06.94-2.06 2.06-.94-2.06-.94-.94-2.06-.94 2.06-2.06.94z\"/><path d=\"M17.41 7.96l-1.37-1.37c-.4-.4-.92-.59-1.43-.59-.52 0-1.04.2-1.43.59L10.3 9.45l-7.72 7.72c-.78.78-.78 2.05 0 2.83L4 21.41c.39.39.9.59 1.41.59.51 0 1.02-.2 1.41-.59l7.78-7.78 2.81-2.81c.8-.78.8-2.07 0-2.86zM5.41 20L4 18.59l7.72-7.72 1.47 1.35L5.41 20z\"/>\n",
              "  </svg>\n",
              "      </button>\n",
              "      \n",
              "  <style>\n",
              "    .colab-df-container {\n",
              "      display:flex;\n",
              "      flex-wrap:wrap;\n",
              "      gap: 12px;\n",
              "    }\n",
              "\n",
              "    .colab-df-convert {\n",
              "      background-color: #E8F0FE;\n",
              "      border: none;\n",
              "      border-radius: 50%;\n",
              "      cursor: pointer;\n",
              "      display: none;\n",
              "      fill: #1967D2;\n",
              "      height: 32px;\n",
              "      padding: 0 0 0 0;\n",
              "      width: 32px;\n",
              "    }\n",
              "\n",
              "    .colab-df-convert:hover {\n",
              "      background-color: #E2EBFA;\n",
              "      box-shadow: 0px 1px 2px rgba(60, 64, 67, 0.3), 0px 1px 3px 1px rgba(60, 64, 67, 0.15);\n",
              "      fill: #174EA6;\n",
              "    }\n",
              "\n",
              "    [theme=dark] .colab-df-convert {\n",
              "      background-color: #3B4455;\n",
              "      fill: #D2E3FC;\n",
              "    }\n",
              "\n",
              "    [theme=dark] .colab-df-convert:hover {\n",
              "      background-color: #434B5C;\n",
              "      box-shadow: 0px 1px 3px 1px rgba(0, 0, 0, 0.15);\n",
              "      filter: drop-shadow(0px 1px 2px rgba(0, 0, 0, 0.3));\n",
              "      fill: #FFFFFF;\n",
              "    }\n",
              "  </style>\n",
              "\n",
              "      <script>\n",
              "        const buttonEl =\n",
              "          document.querySelector('#df-8a9d1f2e-04f7-44df-9b10-a6570f759512 button.colab-df-convert');\n",
              "        buttonEl.style.display =\n",
              "          google.colab.kernel.accessAllowed ? 'block' : 'none';\n",
              "\n",
              "        async function convertToInteractive(key) {\n",
              "          const element = document.querySelector('#df-8a9d1f2e-04f7-44df-9b10-a6570f759512');\n",
              "          const dataTable =\n",
              "            await google.colab.kernel.invokeFunction('convertToInteractive',\n",
              "                                                     [key], {});\n",
              "          if (!dataTable) return;\n",
              "\n",
              "          const docLinkHtml = 'Like what you see? Visit the ' +\n",
              "            '<a target=\"_blank\" href=https://colab.research.google.com/notebooks/data_table.ipynb>data table notebook</a>'\n",
              "            + ' to learn more about interactive tables.';\n",
              "          element.innerHTML = '';\n",
              "          dataTable['output_type'] = 'display_data';\n",
              "          await google.colab.output.renderOutput(dataTable, element);\n",
              "          const docLink = document.createElement('div');\n",
              "          docLink.innerHTML = docLinkHtml;\n",
              "          element.appendChild(docLink);\n",
              "        }\n",
              "      </script>\n",
              "    </div>\n",
              "  </div>\n",
              "  "
            ]
          },
          "metadata": {},
          "execution_count": 63
        }
      ]
    },
    {
      "cell_type": "code",
      "source": [
        "train_result=pd.get_dummies(train_result,drop_first='True')"
      ],
      "metadata": {
        "id": "lEFME8mO-tLA"
      },
      "execution_count": null,
      "outputs": []
    },
    {
      "cell_type": "code",
      "source": [
        "test_result=pd.get_dummies(test_result,drop_first='True')"
      ],
      "metadata": {
        "id": "8gZjgD0E-tHd"
      },
      "execution_count": null,
      "outputs": []
    },
    {
      "cell_type": "code",
      "source": [
        "lg=linear_model.LogisticRegression()\n",
        "lg.fit(train_result,Y_train)"
      ],
      "metadata": {
        "colab": {
          "base_uri": "https://localhost:8080/"
        },
        "id": "JNJqUKZg-tDk",
        "outputId": "0068321a-ae83-412a-8f26-ebb37031bb28"
      },
      "execution_count": null,
      "outputs": [
        {
          "output_type": "execute_result",
          "data": {
            "text/plain": [
              "LogisticRegression()"
            ]
          },
          "metadata": {},
          "execution_count": 66
        }
      ]
    },
    {
      "cell_type": "code",
      "source": [
        "lg_train_pred=lg.predict(train_result)\n",
        "lg_test_pred=lg.predict(test_result)"
      ],
      "metadata": {
        "id": "Y7QZvb2p-s_6"
      },
      "execution_count": null,
      "outputs": []
    },
    {
      "cell_type": "code",
      "source": [
        "lg_train_pred=pd.get_dummies(lg_train_pred,drop_first=True)\n",
        "lg_test_pred=pd.get_dummies(lg_test_pred,drop_first=True)"
      ],
      "metadata": {
        "id": "HgDhSpw9-s9L"
      },
      "execution_count": null,
      "outputs": []
    },
    {
      "cell_type": "code",
      "source": [
        "##### gradient boosting"
      ],
      "metadata": {
        "id": "CVt_lR96DZwt"
      },
      "execution_count": null,
      "outputs": []
    },
    {
      "cell_type": "code",
      "source": [
        "gd=GradientBoostingClassifier()\n",
        "gd.fit(lg_train_pred,Y_train)"
      ],
      "metadata": {
        "colab": {
          "base_uri": "https://localhost:8080/"
        },
        "id": "Ua1NQEi_Dfy9",
        "outputId": "8a6ce2d0-684a-4090-bd88-596aba66bbb1"
      },
      "execution_count": null,
      "outputs": [
        {
          "output_type": "execute_result",
          "data": {
            "text/plain": [
              "GradientBoostingClassifier()"
            ]
          },
          "metadata": {},
          "execution_count": 69
        }
      ]
    },
    {
      "cell_type": "code",
      "source": [
        "gd.fit(lg_test_pred,Y_test)"
      ],
      "metadata": {
        "colab": {
          "base_uri": "https://localhost:8080/"
        },
        "id": "1HdWKGRJDfwJ",
        "outputId": "727225e4-d359-40a3-f00c-4b7b70c1455b"
      },
      "execution_count": null,
      "outputs": [
        {
          "output_type": "execute_result",
          "data": {
            "text/plain": [
              "GradientBoostingClassifier()"
            ]
          },
          "metadata": {},
          "execution_count": 70
        }
      ]
    },
    {
      "cell_type": "code",
      "source": [
        "final_pred_train=gd.predict(lg_train_pred)"
      ],
      "metadata": {
        "id": "9_cUMqLeDfsz"
      },
      "execution_count": null,
      "outputs": []
    },
    {
      "cell_type": "code",
      "source": [
        "final_pred_test=gd.predict(lg_test_pred)"
      ],
      "metadata": {
        "id": "3ezJcFFHDfqT"
      },
      "execution_count": null,
      "outputs": []
    },
    {
      "cell_type": "code",
      "source": [
        "print(confusion_matrix(final_pred_train,Y_train))\n",
        "print(confusion_matrix(final_pred_test,Y_test))"
      ],
      "metadata": {
        "colab": {
          "base_uri": "https://localhost:8080/"
        },
        "id": "ZmOboUlGDfnC",
        "outputId": "34649b65-e860-404d-aff0-84413e39b095"
      },
      "execution_count": null,
      "outputs": [
        {
          "output_type": "stream",
          "name": "stdout",
          "text": [
            "[[1103  220]\n",
            " [   0    0]]\n",
            "[[130  17]\n",
            " [  0   0]]\n"
          ]
        }
      ]
    },
    {
      "cell_type": "code",
      "source": [
        "print(classification_report(final_pred_train,Y_train))\n",
        "print(classification_report(final_pred_test,Y_test))"
      ],
      "metadata": {
        "colab": {
          "base_uri": "https://localhost:8080/"
        },
        "id": "4eW1egEzGLPs",
        "outputId": "2afa5fe2-dc13-4b29-ad62-ee26a3c2f6ea"
      },
      "execution_count": null,
      "outputs": [
        {
          "output_type": "stream",
          "name": "stdout",
          "text": [
            "              precision    recall  f1-score   support\n",
            "\n",
            "          No       1.00      0.83      0.91      1323\n",
            "         Yes       0.00      0.00      0.00         0\n",
            "\n",
            "    accuracy                           0.83      1323\n",
            "   macro avg       0.50      0.42      0.45      1323\n",
            "weighted avg       1.00      0.83      0.91      1323\n",
            "\n",
            "              precision    recall  f1-score   support\n",
            "\n",
            "          No       1.00      0.88      0.94       147\n",
            "         Yes       0.00      0.00      0.00         0\n",
            "\n",
            "    accuracy                           0.88       147\n",
            "   macro avg       0.50      0.44      0.47       147\n",
            "weighted avg       1.00      0.88      0.94       147\n",
            "\n"
          ]
        },
        {
          "output_type": "stream",
          "name": "stderr",
          "text": [
            "/usr/local/lib/python3.7/dist-packages/sklearn/metrics/_classification.py:1318: UndefinedMetricWarning: Recall and F-score are ill-defined and being set to 0.0 in labels with no true samples. Use `zero_division` parameter to control this behavior.\n",
            "  _warn_prf(average, modifier, msg_start, len(result))\n",
            "/usr/local/lib/python3.7/dist-packages/sklearn/metrics/_classification.py:1318: UndefinedMetricWarning: Recall and F-score are ill-defined and being set to 0.0 in labels with no true samples. Use `zero_division` parameter to control this behavior.\n",
            "  _warn_prf(average, modifier, msg_start, len(result))\n",
            "/usr/local/lib/python3.7/dist-packages/sklearn/metrics/_classification.py:1318: UndefinedMetricWarning: Recall and F-score are ill-defined and being set to 0.0 in labels with no true samples. Use `zero_division` parameter to control this behavior.\n",
            "  _warn_prf(average, modifier, msg_start, len(result))\n",
            "/usr/local/lib/python3.7/dist-packages/sklearn/metrics/_classification.py:1318: UndefinedMetricWarning: Recall and F-score are ill-defined and being set to 0.0 in labels with no true samples. Use `zero_division` parameter to control this behavior.\n",
            "  _warn_prf(average, modifier, msg_start, len(result))\n",
            "/usr/local/lib/python3.7/dist-packages/sklearn/metrics/_classification.py:1318: UndefinedMetricWarning: Recall and F-score are ill-defined and being set to 0.0 in labels with no true samples. Use `zero_division` parameter to control this behavior.\n",
            "  _warn_prf(average, modifier, msg_start, len(result))\n",
            "/usr/local/lib/python3.7/dist-packages/sklearn/metrics/_classification.py:1318: UndefinedMetricWarning: Recall and F-score are ill-defined and being set to 0.0 in labels with no true samples. Use `zero_division` parameter to control this behavior.\n",
            "  _warn_prf(average, modifier, msg_start, len(result))\n"
          ]
        }
      ]
    }
  ]
}